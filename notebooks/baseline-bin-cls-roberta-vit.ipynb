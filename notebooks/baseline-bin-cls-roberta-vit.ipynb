{
 "cells": [
  {
   "cell_type": "markdown",
   "metadata": {},
   "source": [
    "# SemEval 2023 Visual WSD: Binary Classification using RoBERTa-base, VIT-base"
   ]
  },
  {
   "cell_type": "markdown",
   "metadata": {},
   "source": [
    "Dual encoder network baseline with pretrained transformer models:\n",
    "- https://huggingface.co/roberta-base\n",
    "- https://huggingface.co/google/vit-base-patch32-224-in21k"
   ]
  },
  {
   "cell_type": "code",
   "execution_count": 1,
   "metadata": {},
   "outputs": [],
   "source": [
    "import transformers\n",
    "import torch\n",
    "import pandas as pd\n",
    "from PIL import Image\n",
    "from pathlib import Path\n",
    "import numpy as np\n",
    "from torchvision.io import read_image, ImageReadMode\n",
    "from typing import *\n",
    "from dataclasses import dataclass\n",
    "import random\n",
    "from torch.utils.data import DataLoader, random_split\n",
    "import torch.nn as nn\n",
    "import torch.nn.functional as F\n",
    "from tqdm import tqdm\n",
    "import matplotlib.pyplot as plt\n",
    "import numpy as np\n",
    "from torch.optim.lr_scheduler import ReduceLROnPlateau\n",
    "from torchmetrics.classification import BinaryAccuracy"
   ]
  },
  {
   "cell_type": "code",
   "execution_count": 2,
   "metadata": {},
   "outputs": [
    {
     "data": {
      "text/plain": [
       "device(type='cuda')"
      ]
     },
     "execution_count": 2,
     "metadata": {},
     "output_type": "execute_result"
    }
   ],
   "source": [
    "RANDOM_SEED = 42\n",
    "DATASET_VERSION = \"v1\"\n",
    "PART = 'train'\n",
    "PATH = Path(f'/home/s1m00n/research/vwsd-train-{DATASET_VERSION}/semeval-2023-task-1-V-WSD-train-v1').resolve() / f\"{PART}_{DATASET_VERSION}\"\n",
    "DATA_PATH = PATH / f\"{PART}.data.v1.txt\"\n",
    "IMAGES_PATH = PATH / f\"{PART}_images_{DATASET_VERSION}\"\n",
    "LABELS_PATH = PATH / f\"{PART}.gold.v1.txt\"\n",
    "DEVICE = torch.device(\"cuda\" if torch.cuda.is_available() else \"cpu\")\n",
    "text_encoder_name = \"roberta-base\"\n",
    "img_encoder_name = \"google/vit-base-patch16-224\"\n",
    "DEVICE"
   ]
  },
  {
   "cell_type": "code",
   "execution_count": 3,
   "metadata": {},
   "outputs": [
    {
     "data": {
      "text/html": [
       "<div>\n",
       "<style scoped>\n",
       "    .dataframe tbody tr th:only-of-type {\n",
       "        vertical-align: middle;\n",
       "    }\n",
       "\n",
       "    .dataframe tbody tr th {\n",
       "        vertical-align: top;\n",
       "    }\n",
       "\n",
       "    .dataframe thead th {\n",
       "        text-align: right;\n",
       "    }\n",
       "</style>\n",
       "<table border=\"1\" class=\"dataframe\">\n",
       "  <thead>\n",
       "    <tr style=\"text-align: right;\">\n",
       "      <th></th>\n",
       "      <th>word</th>\n",
       "      <th>context</th>\n",
       "      <th>image0</th>\n",
       "      <th>image1</th>\n",
       "      <th>image2</th>\n",
       "      <th>image3</th>\n",
       "      <th>image4</th>\n",
       "      <th>image5</th>\n",
       "      <th>image6</th>\n",
       "      <th>image7</th>\n",
       "      <th>image8</th>\n",
       "      <th>image9</th>\n",
       "      <th>label</th>\n",
       "    </tr>\n",
       "  </thead>\n",
       "  <tbody>\n",
       "    <tr>\n",
       "      <th>0</th>\n",
       "      <td>moorhen</td>\n",
       "      <td>moorhen swamphen</td>\n",
       "      <td>image.3.jpg</td>\n",
       "      <td>image.8.jpg</td>\n",
       "      <td>image.4.jpg</td>\n",
       "      <td>image.1.jpg</td>\n",
       "      <td>image.2.jpg</td>\n",
       "      <td>image.0.jpg</td>\n",
       "      <td>image.5.jpg</td>\n",
       "      <td>image.6.jpg</td>\n",
       "      <td>image.7.jpg</td>\n",
       "      <td>image.9.jpg</td>\n",
       "      <td>image.0.jpg</td>\n",
       "    </tr>\n",
       "    <tr>\n",
       "      <th>1</th>\n",
       "      <td>serinus</td>\n",
       "      <td>serinus genus</td>\n",
       "      <td>image.3.jpg</td>\n",
       "      <td>image.23.jpg</td>\n",
       "      <td>image.4.jpg</td>\n",
       "      <td>image.1.jpg</td>\n",
       "      <td>image.2.jpg</td>\n",
       "      <td>image.20.jpg</td>\n",
       "      <td>image.5.jpg</td>\n",
       "      <td>image.24.jpg</td>\n",
       "      <td>image.22.jpg</td>\n",
       "      <td>image.21.jpg</td>\n",
       "      <td>image.20.jpg</td>\n",
       "    </tr>\n",
       "    <tr>\n",
       "      <th>2</th>\n",
       "      <td>pegmatite</td>\n",
       "      <td>pegmatite igneous</td>\n",
       "      <td>image.41.jpg</td>\n",
       "      <td>image.39.jpg</td>\n",
       "      <td>image.42.jpg</td>\n",
       "      <td>image.43.jpg</td>\n",
       "      <td>image.40.jpg</td>\n",
       "      <td>image.44.jpg</td>\n",
       "      <td>image.37.jpg</td>\n",
       "      <td>image.38.jpg</td>\n",
       "      <td>image.36.jpg</td>\n",
       "      <td>image.35.jpg</td>\n",
       "      <td>image.35.jpg</td>\n",
       "    </tr>\n",
       "    <tr>\n",
       "      <th>3</th>\n",
       "      <td>bangalores</td>\n",
       "      <td>bangalores torpedo</td>\n",
       "      <td>image.58.jpg</td>\n",
       "      <td>image.59.jpg</td>\n",
       "      <td>image.64.jpg</td>\n",
       "      <td>image.57.jpg</td>\n",
       "      <td>image.55.jpg</td>\n",
       "      <td>image.56.jpg</td>\n",
       "      <td>image.62.jpg</td>\n",
       "      <td>image.63.jpg</td>\n",
       "      <td>image.61.jpg</td>\n",
       "      <td>image.60.jpg</td>\n",
       "      <td>image.55.jpg</td>\n",
       "    </tr>\n",
       "    <tr>\n",
       "      <th>4</th>\n",
       "      <td>bonxie</td>\n",
       "      <td>bonxie skua</td>\n",
       "      <td>image.3.jpg</td>\n",
       "      <td>image.77.jpg</td>\n",
       "      <td>image.78.jpg</td>\n",
       "      <td>image.4.jpg</td>\n",
       "      <td>image.1.jpg</td>\n",
       "      <td>image.2.jpg</td>\n",
       "      <td>image.5.jpg</td>\n",
       "      <td>image.79.jpg</td>\n",
       "      <td>image.76.jpg</td>\n",
       "      <td>image.75.jpg</td>\n",
       "      <td>image.75.jpg</td>\n",
       "    </tr>\n",
       "    <tr>\n",
       "      <th>...</th>\n",
       "      <td>...</td>\n",
       "      <td>...</td>\n",
       "      <td>...</td>\n",
       "      <td>...</td>\n",
       "      <td>...</td>\n",
       "      <td>...</td>\n",
       "      <td>...</td>\n",
       "      <td>...</td>\n",
       "      <td>...</td>\n",
       "      <td>...</td>\n",
       "      <td>...</td>\n",
       "      <td>...</td>\n",
       "      <td>...</td>\n",
       "    </tr>\n",
       "    <tr>\n",
       "      <th>12864</th>\n",
       "      <td>bomarea</td>\n",
       "      <td>bomarea genus</td>\n",
       "      <td>image.11820.jpg</td>\n",
       "      <td>image.3.jpg</td>\n",
       "      <td>image.4.jpg</td>\n",
       "      <td>image.1.jpg</td>\n",
       "      <td>image.2.jpg</td>\n",
       "      <td>image.1559.jpg</td>\n",
       "      <td>image.1285.jpg</td>\n",
       "      <td>image.5.jpg</td>\n",
       "      <td>image.6482.jpg</td>\n",
       "      <td>image.10937.jpg</td>\n",
       "      <td>image.11820.jpg</td>\n",
       "    </tr>\n",
       "    <tr>\n",
       "      <th>12865</th>\n",
       "      <td>tragopogon</td>\n",
       "      <td>tragopogon genus</td>\n",
       "      <td>image.3.jpg</td>\n",
       "      <td>image.6250.jpg</td>\n",
       "      <td>image.15001.jpg</td>\n",
       "      <td>image.4.jpg</td>\n",
       "      <td>image.1.jpg</td>\n",
       "      <td>image.2.jpg</td>\n",
       "      <td>image.12074.jpg</td>\n",
       "      <td>image.5.jpg</td>\n",
       "      <td>image.4087.jpg</td>\n",
       "      <td>image.12806.jpg</td>\n",
       "      <td>image.12074.jpg</td>\n",
       "    </tr>\n",
       "    <tr>\n",
       "      <th>12866</th>\n",
       "      <td>illustrator</td>\n",
       "      <td>illustrator artist</td>\n",
       "      <td>image.10633.jpg</td>\n",
       "      <td>image.723.jpg</td>\n",
       "      <td>image.13372.jpg</td>\n",
       "      <td>image.881.jpg</td>\n",
       "      <td>image.12635.jpg</td>\n",
       "      <td>image.726.jpg</td>\n",
       "      <td>image.5985.jpg</td>\n",
       "      <td>image.722.jpg</td>\n",
       "      <td>image.724.jpg</td>\n",
       "      <td>image.725.jpg</td>\n",
       "      <td>image.10633.jpg</td>\n",
       "    </tr>\n",
       "    <tr>\n",
       "      <th>12867</th>\n",
       "      <td>brunfelsia</td>\n",
       "      <td>brunfelsia genus</td>\n",
       "      <td>image.3.jpg</td>\n",
       "      <td>image.8911.jpg</td>\n",
       "      <td>image.5195.jpg</td>\n",
       "      <td>image.4.jpg</td>\n",
       "      <td>image.12827.jpg</td>\n",
       "      <td>image.1.jpg</td>\n",
       "      <td>image.2.jpg</td>\n",
       "      <td>image.5.jpg</td>\n",
       "      <td>image.9129.jpg</td>\n",
       "      <td>image.8605.jpg</td>\n",
       "      <td>image.8911.jpg</td>\n",
       "    </tr>\n",
       "    <tr>\n",
       "      <th>12868</th>\n",
       "      <td>headband</td>\n",
       "      <td>headband band</td>\n",
       "      <td>image.340.jpg</td>\n",
       "      <td>image.7485.jpg</td>\n",
       "      <td>image.8747.jpg</td>\n",
       "      <td>image.12401.jpg</td>\n",
       "      <td>image.343.jpg</td>\n",
       "      <td>image.12122.jpg</td>\n",
       "      <td>image.344.jpg</td>\n",
       "      <td>image.8501.jpg</td>\n",
       "      <td>image.342.jpg</td>\n",
       "      <td>image.4550.jpg</td>\n",
       "      <td>image.8747.jpg</td>\n",
       "    </tr>\n",
       "  </tbody>\n",
       "</table>\n",
       "<p>12869 rows × 13 columns</p>\n",
       "</div>"
      ],
      "text/plain": [
       "              word             context           image0          image1  \\\n",
       "0          moorhen    moorhen swamphen      image.3.jpg     image.8.jpg   \n",
       "1          serinus       serinus genus      image.3.jpg    image.23.jpg   \n",
       "2        pegmatite   pegmatite igneous     image.41.jpg    image.39.jpg   \n",
       "3       bangalores  bangalores torpedo     image.58.jpg    image.59.jpg   \n",
       "4           bonxie         bonxie skua      image.3.jpg    image.77.jpg   \n",
       "...            ...                 ...              ...             ...   \n",
       "12864      bomarea       bomarea genus  image.11820.jpg     image.3.jpg   \n",
       "12865   tragopogon    tragopogon genus      image.3.jpg  image.6250.jpg   \n",
       "12866  illustrator  illustrator artist  image.10633.jpg   image.723.jpg   \n",
       "12867   brunfelsia    brunfelsia genus      image.3.jpg  image.8911.jpg   \n",
       "12868     headband       headband band    image.340.jpg  image.7485.jpg   \n",
       "\n",
       "                image2           image3           image4           image5  \\\n",
       "0          image.4.jpg      image.1.jpg      image.2.jpg      image.0.jpg   \n",
       "1          image.4.jpg      image.1.jpg      image.2.jpg     image.20.jpg   \n",
       "2         image.42.jpg     image.43.jpg     image.40.jpg     image.44.jpg   \n",
       "3         image.64.jpg     image.57.jpg     image.55.jpg     image.56.jpg   \n",
       "4         image.78.jpg      image.4.jpg      image.1.jpg      image.2.jpg   \n",
       "...                ...              ...              ...              ...   \n",
       "12864      image.4.jpg      image.1.jpg      image.2.jpg   image.1559.jpg   \n",
       "12865  image.15001.jpg      image.4.jpg      image.1.jpg      image.2.jpg   \n",
       "12866  image.13372.jpg    image.881.jpg  image.12635.jpg    image.726.jpg   \n",
       "12867   image.5195.jpg      image.4.jpg  image.12827.jpg      image.1.jpg   \n",
       "12868   image.8747.jpg  image.12401.jpg    image.343.jpg  image.12122.jpg   \n",
       "\n",
       "                image6          image7          image8           image9  \\\n",
       "0          image.5.jpg     image.6.jpg     image.7.jpg      image.9.jpg   \n",
       "1          image.5.jpg    image.24.jpg    image.22.jpg     image.21.jpg   \n",
       "2         image.37.jpg    image.38.jpg    image.36.jpg     image.35.jpg   \n",
       "3         image.62.jpg    image.63.jpg    image.61.jpg     image.60.jpg   \n",
       "4          image.5.jpg    image.79.jpg    image.76.jpg     image.75.jpg   \n",
       "...                ...             ...             ...              ...   \n",
       "12864   image.1285.jpg     image.5.jpg  image.6482.jpg  image.10937.jpg   \n",
       "12865  image.12074.jpg     image.5.jpg  image.4087.jpg  image.12806.jpg   \n",
       "12866   image.5985.jpg   image.722.jpg   image.724.jpg    image.725.jpg   \n",
       "12867      image.2.jpg     image.5.jpg  image.9129.jpg   image.8605.jpg   \n",
       "12868    image.344.jpg  image.8501.jpg   image.342.jpg   image.4550.jpg   \n",
       "\n",
       "                 label  \n",
       "0          image.0.jpg  \n",
       "1         image.20.jpg  \n",
       "2         image.35.jpg  \n",
       "3         image.55.jpg  \n",
       "4         image.75.jpg  \n",
       "...                ...  \n",
       "12864  image.11820.jpg  \n",
       "12865  image.12074.jpg  \n",
       "12866  image.10633.jpg  \n",
       "12867   image.8911.jpg  \n",
       "12868   image.8747.jpg  \n",
       "\n",
       "[12869 rows x 13 columns]"
      ]
     },
     "execution_count": 3,
     "metadata": {},
     "output_type": "execute_result"
    }
   ],
   "source": [
    "df = pd.read_csv(DATA_PATH, sep=\"\\t\", header=None)\n",
    "df.columns = [\"word\", \"context\"] + [f\"image{i}\" for i in range(10)]\n",
    "df[\"label\"] = pd.read_csv(LABELS_PATH, sep=\"\\t\", header=None)\n",
    "df"
   ]
  },
  {
   "cell_type": "code",
   "execution_count": 4,
   "metadata": {},
   "outputs": [],
   "source": [
    "@dataclass\n",
    "class BinaryClassificationSample:\n",
    "    word: str\n",
    "    context: str\n",
    "    image_name: Path\n",
    "    label: bool\n",
    "\n",
    "@dataclass\n",
    "class BinaryClassificationItem:\n",
    "    tokens: torch.Tensor\n",
    "    image: torch.Tensor\n",
    "    label: int\n",
    "\n",
    "class BinaryClassificationDataset(torch.utils.data.Dataset):\n",
    "    def __init__(\n",
    "        self,\n",
    "        data_path: Path,\n",
    "        labels_path: Path,\n",
    "        images_path: Path,\n",
    "        text_tokenizer: Callable[[str], torch.Tensor],\n",
    "        image_preprocessor: Callable[[torch.Tensor], torch.Tensor],\n",
    "        negative_sampling: str = 'same',\n",
    "        negative_sampling_random_state: Optional[int] = None,\n",
    "        use_context_as_text: bool = True,\n",
    "        enable_caching: bool = True,\n",
    "    ) -> None:\n",
    "        self.use_context_as_text = use_context_as_text\n",
    "        self.images_path = images_path\n",
    "        self.text_tokenizer = text_tokenizer\n",
    "        self.image_preprocessor = image_preprocessor\n",
    "        self.cache_enabled = enable_caching\n",
    "        if self.cache_enabled:\n",
    "            self.items_cache = dict()\n",
    "        df = pd.read_csv(data_path, sep=\"\\t\", header=None)\n",
    "        df.columns = [\"word\", \"context\"] + [f\"image.{i}\" for i in range(10)]\n",
    "        df[\"label\"] = pd.read_csv(labels_path, sep=\"\\t\", header=None)\n",
    "        # Just taking positive samples directly\n",
    "        self.samples = [\n",
    "            BinaryClassificationSample(\n",
    "                word=row[\"word\"],\n",
    "                context=row[\"context\"],\n",
    "                image_name=row[\"label\"],\n",
    "                label=True,\n",
    "            ) \n",
    "            for _, row in df.iterrows()\n",
    "        ]\n",
    "        # Making negative samples for\n",
    "        random.seed(negative_sampling_random_state)\n",
    "        negative_samples = []\n",
    "        if negative_sampling == 'same':\n",
    "            for _, row in df.iterrows():\n",
    "                other_images = filter(\n",
    "                    lambda n: n != row[\"label\"], \n",
    "                    map(lambda i: f\"image.{i}.jpg\",range(10))\n",
    "                )\n",
    "                negative_samples.append(\n",
    "                    BinaryClassificationSample(\n",
    "                        word=row[\"word\"],\n",
    "                        context=row[\"context\"],\n",
    "                        image_name=random.choice(list(other_images)),\n",
    "                        label=False,\n",
    "                    )\n",
    "                )\n",
    "        elif negative_sampling == 'all':\n",
    "            for _, row in df.iterrows():\n",
    "                other_images = filter(\n",
    "                    lambda n: n != row[\"label\"], \n",
    "                    map(lambda i: f\"image.{i}.jpg\",range(10))\n",
    "                )\n",
    "                negative_samples += [\n",
    "                    BinaryClassificationSample(\n",
    "                        word=row[\"word\"],\n",
    "                        context=row[\"context\"],\n",
    "                        image_name=img,\n",
    "                        label=False,\n",
    "                    ) for img in other_images\n",
    "                ]\n",
    "        else:\n",
    "            raise ValueError(f\"expected `negative_sampling` argument to equal 'same' or 'all', but got '{negative_sampling}'\")\n",
    "        self.samples += negative_samples\n",
    "\n",
    "    def __len__(self) -> int:\n",
    "        return len(self.samples)\n",
    "\n",
    "    def __getitem__(self, idx: int) -> dict:\n",
    "        if self.cache_enabled and (idx in self.items_cache):\n",
    "            return self.items_cache[idx]\n",
    "        else:\n",
    "            sample = self.samples[idx]\n",
    "            text = sample.context if self.use_context_as_text else sample.word\n",
    "            img_path = str(self.images_path / sample.image_name)\n",
    "            try:\n",
    "                item = BinaryClassificationItem(\n",
    "                    tokens=self.text_tokenizer(text),\n",
    "                    image=self.image_preprocessor(Image.open(img_path).convert(\"RGB\")),\n",
    "                    label=int(sample.label),\n",
    "                )\n",
    "                if self.cache_enabled:\n",
    "                    self.items_cache[idx] = item\n",
    "                return item \n",
    "            except Exception as e:\n",
    "                # TODO: fix image loading & uncomment previous Exception raise\n",
    "                print(f\"Got exception \\\"{e}\\\" when tried to get at index {idx} with properties: text: \\\"{text}\\\", img_path: \\\"{img_path}\\\", label: \\\"{sample.label}\\\"; returning zeros for image tensor\")\n",
    "\n",
    "                item = BinaryClassificationItem(\n",
    "                    tokens=self.text_tokenizer(text),\n",
    "                    image=torch.zeros((3, 224, 224)),\n",
    "                    label=0,\n",
    "                )\n",
    "                if self.cache_enabled:\n",
    "                    self.items_cache[idx] = item\n",
    "                return item\n",
    "                # raise Exception(f\"Got exception \\\"{e}\\\" when tried to get at index {idx} with properties: text: \\\"{text}\\\", img_path: \\\"{img_path}\\\", label: \\\"{sample.label}\\\"\")"
   ]
  },
  {
   "cell_type": "code",
   "execution_count": 5,
   "metadata": {},
   "outputs": [],
   "source": [
    "@dataclass\n",
    "class BinaryClassificationBatch:\n",
    "    text_inputs: transformers.BatchEncoding\n",
    "    image_inputs: torch.Tensor \n",
    "    labels: torch.Tensor\n",
    "\n",
    "    def to(self, device):\n",
    "        return BinaryClassificationBatch(\n",
    "            text_inputs=self.text_inputs.to(device),\n",
    "            image_inputs=self.image_inputs.to(device),\n",
    "            labels=self.labels.to(device),\n",
    "        )\n",
    "\n",
    "class Collator:\n",
    "    def __init__(\n",
    "        self,\n",
    "        text_collator: Callable[[List[Dict[str, torch.Tensor]]], Dict[str, torch.Tensor]],\n",
    "        image_collator: Callable[[torch.Tensor], torch.Tensor],\n",
    "        labels_collator: Callable[[List[int]], torch.Tensor] = lambda l: torch.tensor(l, dtype=torch.float),\n",
    "    ) -> None:\n",
    "        self.text_collator = text_collator\n",
    "        self.image_collator = image_collator\n",
    "        self.labels_collator = labels_collator\n",
    "\n",
    "    def __call__(self, items: List[BinaryClassificationItem]) -> BinaryClassificationBatch:\n",
    "        return BinaryClassificationBatch(\n",
    "            text_inputs=self.text_collator([item.tokens for item in items]),\n",
    "            image_inputs=self.image_collator([item.image for item in items]),\n",
    "            labels=self.labels_collator([item.label for item in items]),\n",
    "        )"
   ]
  },
  {
   "cell_type": "code",
   "execution_count": 6,
   "metadata": {},
   "outputs": [],
   "source": [
    "# see /home/s1m00n/research/transformers/src/transformers/models/vision_text_dual_encoder/modeling_vision_text_dual_encoder.py\n",
    "# -> should test the built-in model\n",
    "# also see /home/s1m00n/research/transformers/src/transformers/models/roberta/modeling_roberta.py\n",
    "class BinaryClassificationModel(nn.Module):\n",
    "    def __init__(\n",
    "        self,\n",
    "        text_encoder: transformers.PreTrainedModel,\n",
    "        image_encoder: transformers.PreTrainedModel,\n",
    "        text_dropout_rate: float = 0.0,\n",
    "        image_dropout_rate: float = 0.0,\n",
    "        text_projection_enable_bias: bool = True,\n",
    "        image_projection_enable_bias: bool = True,\n",
    "        projection_dim: int = 768,\n",
    "    ):\n",
    "        super().__init__()\n",
    "        self.text_encoder = text_encoder\n",
    "        self.text_dropout = nn.Dropout(p=text_dropout_rate)\n",
    "        self.text_projection = nn.Linear(self.text_encoder.config.hidden_size, projection_dim, bias=text_projection_enable_bias)\n",
    "        self.image_encoder = image_encoder\n",
    "        self.image_dropout = nn.Dropout(p=image_dropout_rate)\n",
    "        self.image_projection = nn.Linear(self.image_encoder.config.hidden_size, projection_dim, bias=image_projection_enable_bias)\n",
    "        # TODO: check out logit_scale in VisualTextDualEncoderModel\n",
    "\n",
    "\n",
    "    def forward(self, batch: BinaryClassificationBatch) -> torch.Tensor:\n",
    "        text_outputs = self.text_encoder(\n",
    "            input_ids=batch.text_inputs[\"input_ids\"],\n",
    "            attention_mask=batch.text_inputs[\"attention_mask\"],\n",
    "            # TODO: do we need to specify anything else here?\n",
    "        )\n",
    "        text_embs = self.text_projection(self.text_dropout(text_outputs.pooler_output))\n",
    "        image_outputs = self.image_encoder(\n",
    "            pixel_values=batch.image_inputs,\n",
    "            # TODO: do we need to specify anything else here?\n",
    "        )\n",
    "        image_embs = self.image_projection(self.image_dropout(image_outputs.pooler_output))\n",
    "        text_embs = text_embs / text_embs.norm(dim=-1, keepdim=True)\n",
    "        image_embs = image_embs / image_embs.norm(dim=-1, keepdim=True)\n",
    "        return torch.sigmoid(torch.sum(text_embs * image_embs, dim = 1))"
   ]
  },
  {
   "cell_type": "code",
   "execution_count": 7,
   "metadata": {},
   "outputs": [],
   "source": [
    "tokenizer = transformers.AutoTokenizer.from_pretrained(text_encoder_name)\n",
    "img_processor = transformers.ViTFeatureExtractor.from_pretrained(img_encoder_name)\n",
    "dataset = BinaryClassificationDataset(\n",
    "    data_path=DATA_PATH,\n",
    "    labels_path=LABELS_PATH,\n",
    "    images_path=IMAGES_PATH,\n",
    "    text_tokenizer=lambda text: tokenizer(text),\n",
    "    image_preprocessor=lambda img: img_processor(images=img, return_tensors=\"pt\")[\"pixel_values\"][0],\n",
    "    negative_sampling_random_state=RANDOM_SEED\n",
    ")"
   ]
  },
  {
   "cell_type": "code",
   "execution_count": 8,
   "metadata": {},
   "outputs": [],
   "source": [
    "collator = Collator(\n",
    "    text_collator=lambda inputs_list: tokenizer.pad(encoded_inputs=inputs_list, return_tensors=\"pt\"),\n",
    "    image_collator=torch.utils.data.default_collate,\n",
    ")\n",
    "train_subset, validation_subset, test_subset = random_split(dataset, [0.7, 0.15, 0.15], generator = torch.Generator().manual_seed(RANDOM_SEED))\n",
    "train_dl = DataLoader(train_subset, batch_size=24, shuffle=True, collate_fn=collator)\n",
    "validation_dl = DataLoader(validation_subset, batch_size=24, shuffle=True, collate_fn=collator)\n",
    "test_dl = DataLoader(test_subset, batch_size=24, shuffle=True, collate_fn=collator)"
   ]
  },
  {
   "cell_type": "code",
   "execution_count": 9,
   "metadata": {},
   "outputs": [
    {
     "name": "stderr",
     "output_type": "stream",
     "text": [
      "Some weights of the model checkpoint at roberta-base were not used when initializing RobertaModel: ['lm_head.layer_norm.weight', 'lm_head.layer_norm.bias', 'lm_head.dense.weight', 'lm_head.bias', 'lm_head.decoder.weight', 'lm_head.dense.bias']\n",
      "- This IS expected if you are initializing RobertaModel from the checkpoint of a model trained on another task or with another architecture (e.g. initializing a BertForSequenceClassification model from a BertForPreTraining model).\n",
      "- This IS NOT expected if you are initializing RobertaModel from the checkpoint of a model that you expect to be exactly identical (initializing a BertForSequenceClassification model from a BertForSequenceClassification model).\n",
      "Some weights of the model checkpoint at google/vit-base-patch16-224 were not used when initializing ViTModel: ['classifier.bias', 'classifier.weight']\n",
      "- This IS expected if you are initializing ViTModel from the checkpoint of a model trained on another task or with another architecture (e.g. initializing a BertForSequenceClassification model from a BertForPreTraining model).\n",
      "- This IS NOT expected if you are initializing ViTModel from the checkpoint of a model that you expect to be exactly identical (initializing a BertForSequenceClassification model from a BertForSequenceClassification model).\n",
      "Some weights of ViTModel were not initialized from the model checkpoint at google/vit-base-patch16-224 and are newly initialized: ['vit.pooler.dense.weight', 'vit.pooler.dense.bias']\n",
      "You should probably TRAIN this model on a down-stream task to be able to use it for predictions and inference.\n"
     ]
    }
   ],
   "source": [
    "model = BinaryClassificationModel(\n",
    "    text_encoder = transformers.AutoModel.from_pretrained(text_encoder_name),\n",
    "    image_encoder = transformers.AutoModel.from_pretrained(img_encoder_name),\n",
    ").to(DEVICE)"
   ]
  },
  {
   "cell_type": "code",
   "execution_count": 10,
   "metadata": {},
   "outputs": [
    {
     "data": {
      "text/plain": [
       "37550"
      ]
     },
     "execution_count": 10,
     "metadata": {},
     "output_type": "execute_result"
    }
   ],
   "source": [
    "loss_fn = nn.CrossEntropyLoss()\n",
    "optimizer = torch.optim.AdamW(model.parameters())\n",
    "num_epochs = 50\n",
    "num_training_steps = num_epochs * len(train_dl)\n",
    "scheduler = ReduceLROnPlateau(optimizer=optimizer, mode='min', patience=1, )\n",
    "accuracy = BinaryAccuracy().to(DEVICE)\n",
    "num_training_steps"
   ]
  },
  {
   "cell_type": "code",
   "execution_count": 11,
   "metadata": {},
   "outputs": [],
   "source": [
    "train_loss_hist = []\n",
    "train_acc_hist = []\n",
    "val_loss_hist = []\n",
    "val_acc_hist = []\n",
    "val_loss_best = np.inf\n",
    "val_acc_best = 0\n",
    "\n",
    "l_train_dl = len(train_dl)\n",
    "l_val_dl = len(validation_dl)\n",
    "l_test_dl = len(test_dl)"
   ]
  },
  {
   "cell_type": "code",
   "execution_count": 12,
   "metadata": {},
   "outputs": [
    {
     "name": "stderr",
     "output_type": "stream",
     "text": [
      "  0%|          | 10/37550 [00:17<17:48:41,  1.71s/it]/home/s1m00n/miniconda3/envs/ds/lib/python3.10/site-packages/PIL/TiffImagePlugin.py:845: UserWarning: Corrupt EXIF data.  Expecting to read 2 bytes but only got 0. \n",
      "  warnings.warn(str(msg))\n",
      "  0%|          | 42/37550 [01:06<16:07:57,  1.55s/it]/home/s1m00n/miniconda3/envs/ds/lib/python3.10/site-packages/PIL/Image.py:3035: DecompressionBombWarning: Image size (148635000 pixels) exceeds limit of 89478485 pixels, could be decompression bomb DOS attack.\n",
      "  warnings.warn(\n",
      "  0%|          | 155/37550 [03:56<15:08:47,  1.46s/it]/home/s1m00n/miniconda3/envs/ds/lib/python3.10/site-packages/PIL/Image.py:3035: DecompressionBombWarning: Image size (131300000 pixels) exceeds limit of 89478485 pixels, could be decompression bomb DOS attack.\n",
      "  warnings.warn(\n",
      "  1%|          | 216/37550 [05:29<16:20:20,  1.58s/it]/home/s1m00n/miniconda3/envs/ds/lib/python3.10/site-packages/PIL/Image.py:3035: DecompressionBombWarning: Image size (104405838 pixels) exceeds limit of 89478485 pixels, could be decompression bomb DOS attack.\n",
      "  warnings.warn(\n",
      "  1%|          | 329/37550 [08:18<14:31:28,  1.40s/it]/home/s1m00n/miniconda3/envs/ds/lib/python3.10/site-packages/PIL/Image.py:3035: DecompressionBombWarning: Image size (102080000 pixels) exceeds limit of 89478485 pixels, could be decompression bomb DOS attack.\n",
      "  warnings.warn(\n",
      "  1%|          | 425/37550 [10:42<15:56:45,  1.55s/it]/home/s1m00n/miniconda3/envs/ds/lib/python3.10/site-packages/PIL/Image.py:3035: DecompressionBombWarning: Image size (178315136 pixels) exceeds limit of 89478485 pixels, could be decompression bomb DOS attack.\n",
      "  warnings.warn(\n",
      "  1%|▏         | 554/37550 [13:54<17:27:07,  1.70s/it]/home/s1m00n/miniconda3/envs/ds/lib/python3.10/site-packages/PIL/Image.py:3035: DecompressionBombWarning: Image size (89550550 pixels) exceeds limit of 89478485 pixels, could be decompression bomb DOS attack.\n",
      "  warnings.warn(\n",
      "  2%|▏         | 585/37550 [14:40<14:55:31,  1.45s/it]"
     ]
    },
    {
     "name": "stdout",
     "output_type": "stream",
     "text": [
      "Got exception \"image file is truncated (34 bytes not processed)\" when tried to get at index 12713 with properties: text: \"journalist author\", img_path: \"/home/s1m00n/research/vwsd-train-v1/semeval-2023-task-1-V-WSD-train-v1/train_v1/train_images_v1/image.3010.jpg\", label: \"True\"; returning zeros for image tensor\n"
     ]
    },
    {
     "name": "stderr",
     "output_type": "stream",
     "text": [
      "  2%|▏         | 751/37550 [18:41<12:55:07,  1.26s/it]"
     ]
    },
    {
     "name": "stdout",
     "output_type": "stream",
     "text": [
      "[0] Train loss: 37.94932124141688\n",
      "[0] Train acc: 0.5433604878369723\n",
      "Got exception \"image file is truncated (18 bytes not processed)\" when tried to get at index 718 with properties: text: \"cirrostratus cloud\", img_path: \"/home/s1m00n/research/vwsd-train-v1/semeval-2023-task-1-V-WSD-train-v1/train_v1/train_images_v1/image.4123.jpg\", label: \"True\"; returning zeros for image tensor\n"
     ]
    },
    {
     "name": "stderr",
     "output_type": "stream",
     "text": [
      "/home/s1m00n/miniconda3/envs/ds/lib/python3.10/site-packages/PIL/Image.py:3035: DecompressionBombWarning: Image size (141880000 pixels) exceeds limit of 89478485 pixels, could be decompression bomb DOS attack.\n",
      "  warnings.warn(\n"
     ]
    },
    {
     "name": "stdout",
     "output_type": "stream",
     "text": [
      "[0] Validation loss: 37.98438621900097\n",
      "[0] New best loss on validation: inf -> 37.98438621900097 , diff: inf\n",
      "[0] Validation acc: 0.5922065377235413\n"
     ]
    },
    {
     "name": "stderr",
     "output_type": "stream",
     "text": [
      "  4%|▍         | 1502/37550 [28:09<4:44:09,  2.11it/s] "
     ]
    },
    {
     "name": "stdout",
     "output_type": "stream",
     "text": [
      "[1] Train loss: 37.957047058643894\n",
      "[1] Train acc: 0.542949272753713\n",
      "[1] Validation loss: 38.18587859965259\n",
      "[1] Validation acc: 0.5480257868766785\n"
     ]
    },
    {
     "name": "stderr",
     "output_type": "stream",
     "text": [
      "  6%|▌         | 2253/37550 [34:56<4:38:38,  2.11it/s] "
     ]
    },
    {
     "name": "stdout",
     "output_type": "stream",
     "text": [
      "[2] Train loss: 38.003248883944536\n",
      "[2] Train acc: 0.5292224753276009\n",
      "[2] Validation loss: 38.32317169852879\n",
      "[2] Validation acc: 0.5035123825073242\n"
     ]
    },
    {
     "name": "stderr",
     "output_type": "stream",
     "text": [
      "  8%|▊         | 3004/37550 [41:43<4:32:27,  2.11it/s] "
     ]
    },
    {
     "name": "stdout",
     "output_type": "stream",
     "text": [
      "[3] Train loss: 38.004209943205\n",
      "[3] Train acc: 0.5286219698710544\n",
      "[3] Validation loss: 38.37435863921361\n",
      "[3] Validation acc: 0.5032535791397095\n"
     ]
    },
    {
     "name": "stderr",
     "output_type": "stream",
     "text": [
      " 10%|█         | 3755/37550 [48:31<4:25:50,  2.12it/s] "
     ]
    },
    {
     "name": "stdout",
     "output_type": "stream",
     "text": [
      "[4] Train loss: 37.680512354631084\n",
      "[4] Train acc: 0.609275868705681\n",
      "[4] Validation loss: 36.97602290988709\n",
      "[4] New best loss on validation: 37.98438621900097 -> 36.97602290988709 , diff: 1.008363309113875\n",
      "[4] Validation acc: 0.9046137928962708\n"
     ]
    },
    {
     "name": "stderr",
     "output_type": "stream",
     "text": [
      " 12%|█▏        | 4506/37550 [55:18<4:20:25,  2.11it/s] "
     ]
    },
    {
     "name": "stdout",
     "output_type": "stream",
     "text": [
      "[5] Train loss: 37.02454097102707\n",
      "[5] Train acc: 0.7555024679427775\n",
      "[5] Validation loss: 36.77979587768176\n",
      "[5] New best loss on validation: 36.97602290988709 -> 36.77979587768176 , diff: 0.19622703220533566\n",
      "[5] Validation acc: 0.8565145134925842\n"
     ]
    },
    {
     "name": "stderr",
     "output_type": "stream",
     "text": [
      " 14%|█▍        | 5257/37550 [1:02:06<4:14:34,  2.11it/s]"
     ]
    },
    {
     "name": "stdout",
     "output_type": "stream",
     "text": [
      "[6] Train loss: 37.45241055571128\n",
      "[6] Train acc: 0.6508087257094453\n",
      "[6] Validation loss: 36.84800953006152\n",
      "[6] Validation acc: 0.8531501889228821\n"
     ]
    },
    {
     "name": "stderr",
     "output_type": "stream",
     "text": [
      " 16%|█▌        | 6008/37550 [1:08:53<4:09:05,  2.11it/s] "
     ]
    },
    {
     "name": "stdout",
     "output_type": "stream",
     "text": [
      "[7] Train loss: 36.52273590047255\n",
      "[7] Train acc: 0.8610055864889041\n",
      "[7] Validation loss: 37.11963581298449\n",
      "[7] Validation acc: 0.793256402015686\n"
     ]
    },
    {
     "name": "stderr",
     "output_type": "stream",
     "text": [
      " 18%|█▊        | 6759/37550 [1:15:41<4:01:56,  2.12it/s] "
     ]
    },
    {
     "name": "stdout",
     "output_type": "stream",
     "text": [
      "[8] Train loss: 36.409402025682475\n",
      "[8] Train acc: 0.8810801285402118\n",
      "[8] Validation loss: 36.42644799273947\n",
      "[8] New best loss on validation: 36.77979587768176 -> 36.42644799273947 , diff: 0.35334788494228775\n",
      "[8] Validation acc: 0.9233213067054749\n"
     ]
    },
    {
     "name": "stderr",
     "output_type": "stream",
     "text": [
      " 20%|██        | 7510/37550 [1:22:28<3:57:09,  2.11it/s] "
     ]
    },
    {
     "name": "stdout",
     "output_type": "stream",
     "text": [
      "[9] Train loss: 36.3259115739764\n",
      "[9] Train acc: 0.8960927897064727\n",
      "[9] Validation loss: 36.63136181327867\n",
      "[9] Validation acc: 0.8782907128334045\n"
     ]
    },
    {
     "name": "stderr",
     "output_type": "stream",
     "text": [
      " 22%|██▏       | 8261/37550 [1:29:16<3:51:22,  2.11it/s] "
     ]
    },
    {
     "name": "stdout",
     "output_type": "stream",
     "text": [
      "[10] Train loss: 36.38977786291455\n",
      "[10] Train acc: 0.8813346902952689\n",
      "[10] Validation loss: 36.63774037805403\n",
      "[10] Validation acc: 0.8844647407531738\n"
     ]
    },
    {
     "name": "stderr",
     "output_type": "stream",
     "text": [
      " 24%|██▍       | 9012/37550 [1:36:03<3:48:01,  2.09it/s] "
     ]
    },
    {
     "name": "stdout",
     "output_type": "stream",
     "text": [
      "[11] Train loss: 36.3634685739855\n",
      "[11] Train acc: 0.8874148187561137\n",
      "[11] Validation loss: 36.61114992414202\n",
      "[11] Validation acc: 0.8858693242073059\n"
     ]
    },
    {
     "name": "stderr",
     "output_type": "stream",
     "text": [
      " 26%|██▌       | 9763/37550 [1:42:51<3:38:21,  2.12it/s] "
     ]
    },
    {
     "name": "stdout",
     "output_type": "stream",
     "text": [
      "[12] Train loss: 36.5069682658433\n",
      "[12] Train acc: 0.8588646510628346\n",
      "[12] Validation loss: 36.83362286727621\n",
      "[12] Validation acc: 0.8393594622612\n"
     ]
    },
    {
     "name": "stderr",
     "output_type": "stream",
     "text": [
      " 28%|██▊       | 10514/37550 [1:49:38<3:35:01,  2.10it/s]"
     ]
    },
    {
     "name": "stdout",
     "output_type": "stream",
     "text": [
      "[13] Train loss: 36.594244385527546\n",
      "[13] Train acc: 0.841387955310659\n",
      "[13] Validation loss: 36.84532998363424\n",
      "[13] Validation acc: 0.839914083480835\n"
     ]
    },
    {
     "name": "stderr",
     "output_type": "stream",
     "text": [
      " 30%|███       | 11265/37550 [1:56:26<3:27:03,  2.12it/s] "
     ]
    },
    {
     "name": "stdout",
     "output_type": "stream",
     "text": [
      "[14] Train loss: 36.593562856336405\n",
      "[14] Train acc: 0.8413324723548483\n",
      "[14] Validation loss: 36.8462967783768\n",
      "[14] Validation acc: 0.8399144411087036\n"
     ]
    },
    {
     "name": "stderr",
     "output_type": "stream",
     "text": [
      " 32%|███▏      | 12016/37550 [2:03:13<3:21:09,  2.12it/s] "
     ]
    },
    {
     "name": "stdout",
     "output_type": "stream",
     "text": [
      "[15] Train loss: 36.592043790296614\n",
      "[15] Train acc: 0.8414760710554974\n",
      "[15] Validation loss: 36.83656072912749\n",
      "[15] Validation acc: 0.8398403525352478\n"
     ]
    },
    {
     "name": "stderr",
     "output_type": "stream",
     "text": [
      " 34%|███▍      | 12767/37550 [2:10:01<3:14:47,  2.12it/s] "
     ]
    },
    {
     "name": "stdout",
     "output_type": "stream",
     "text": [
      "[16] Train loss: 36.58761419913423\n",
      "[16] Train acc: 0.8414989154284868\n",
      "[16] Validation loss: 36.85527435444897\n",
      "[16] Validation acc: 0.8399882316589355\n"
     ]
    },
    {
     "name": "stderr",
     "output_type": "stream",
     "text": [
      " 36%|███▌      | 13518/37550 [2:16:48<3:09:32,  2.11it/s] "
     ]
    },
    {
     "name": "stdout",
     "output_type": "stream",
     "text": [
      "[17] Train loss: 36.589411415526776\n",
      "[17] Train acc: 0.8414532246983322\n",
      "[17] Validation loss: 36.84107002116138\n",
      "[17] Validation acc: 0.8398401737213135\n"
     ]
    },
    {
     "name": "stderr",
     "output_type": "stream",
     "text": [
      " 38%|███▊      | 14269/37550 [2:23:36<3:04:12,  2.11it/s] "
     ]
    },
    {
     "name": "stdout",
     "output_type": "stream",
     "text": [
      "[18] Train loss: 36.59458877624431\n",
      "[18] Train acc: 0.8415087074954087\n",
      "[18] Validation loss: 36.82793543205498\n",
      "[18] Validation acc: 0.8403210639953613\n"
     ]
    },
    {
     "name": "stderr",
     "output_type": "stream",
     "text": [
      " 40%|████      | 15020/37550 [2:30:23<2:57:58,  2.11it/s] "
     ]
    },
    {
     "name": "stdout",
     "output_type": "stream",
     "text": [
      "[19] Train loss: 36.59584931781225\n",
      "[19] Train acc: 0.8416098801496026\n",
      "[19] Validation loss: 36.84713639679903\n",
      "[19] Validation acc: 0.840283989906311\n"
     ]
    },
    {
     "name": "stderr",
     "output_type": "stream",
     "text": [
      " 42%|████▏     | 15771/37550 [2:37:11<2:51:48,  2.11it/s] "
     ]
    },
    {
     "name": "stdout",
     "output_type": "stream",
     "text": [
      "[20] Train loss: 36.59435574192499\n",
      "[20] Train acc: 0.8416098798321344\n",
      "[20] Validation loss: 36.84001112280425\n",
      "[20] Validation acc: 0.8402841687202454\n"
     ]
    },
    {
     "name": "stderr",
     "output_type": "stream",
     "text": [
      " 44%|████▍     | 16522/37550 [2:43:58<2:45:54,  2.11it/s] "
     ]
    },
    {
     "name": "stdout",
     "output_type": "stream",
     "text": [
      "[21] Train loss: 36.591259652860316\n",
      "[21] Train acc: 0.8416098795146663\n",
      "[21] Validation loss: 36.83706757444773\n",
      "[21] Validation acc: 0.8402469158172607\n"
     ]
    },
    {
     "name": "stderr",
     "output_type": "stream",
     "text": [
      " 46%|████▌     | 17273/37550 [2:50:45<2:40:15,  2.11it/s] "
     ]
    },
    {
     "name": "stdout",
     "output_type": "stream",
     "text": [
      "[22] Train loss: 36.59443421878129\n",
      "[22] Train acc: 0.8415641890226128\n",
      "[22] Validation loss: 36.84548847127405\n",
      "[22] Validation acc: 0.840135931968689\n"
     ]
    },
    {
     "name": "stderr",
     "output_type": "stream",
     "text": [
      " 48%|████▊     | 18024/37550 [2:57:32<2:33:57,  2.11it/s] "
     ]
    },
    {
     "name": "stdout",
     "output_type": "stream",
     "text": [
      "[23] Train loss: 36.592903985481925\n",
      "[23] Train acc: 0.8416327249987942\n",
      "[23] Validation loss: 36.836371925306615\n",
      "[23] Validation acc: 0.8403209447860718\n"
     ]
    },
    {
     "name": "stderr",
     "output_type": "stream",
     "text": [
      " 50%|█████     | 18775/37550 [3:04:20<2:28:08,  2.11it/s] "
     ]
    },
    {
     "name": "stdout",
     "output_type": "stream",
     "text": [
      "[24] Train loss: 36.601446258402696\n",
      "[24] Train acc: 0.8416425158752107\n",
      "[24] Validation loss: 36.84222277054876\n",
      "[24] Validation acc: 0.8403207659721375\n"
     ]
    },
    {
     "name": "stderr",
     "output_type": "stream",
     "text": [
      " 52%|█████▏    | 19526/37550 [3:11:07<2:22:46,  2.10it/s] "
     ]
    },
    {
     "name": "stdout",
     "output_type": "stream",
     "text": [
      "[25] Train loss: 36.59244843519797\n",
      "[25] Train acc: 0.8419101329522825\n",
      "[25] Validation loss: 36.84137695028175\n",
      "[25] Validation acc: 0.840246856212616\n"
     ]
    },
    {
     "name": "stderr",
     "output_type": "stream",
     "text": [
      " 54%|█████▍    | 20277/37550 [3:17:54<2:15:48,  2.12it/s] "
     ]
    },
    {
     "name": "stdout",
     "output_type": "stream",
     "text": [
      "[26] Train loss: 36.593788065700814\n",
      "[26] Train acc: 0.8419297139114451\n",
      "[26] Validation loss: 36.82086847435614\n",
      "[26] Validation acc: 0.8401730060577393\n"
     ]
    },
    {
     "name": "stderr",
     "output_type": "stream",
     "text": [
      " 56%|█████▌    | 21028/37550 [3:24:41<2:10:35,  2.11it/s] "
     ]
    },
    {
     "name": "stdout",
     "output_type": "stream",
     "text": [
      "[27] Train loss: 36.59229911976902\n",
      "[27] Train acc: 0.8419754056733711\n",
      "[27] Validation loss: 36.831473936945756\n",
      "[27] Validation acc: 0.8402470350265503\n"
     ]
    },
    {
     "name": "stderr",
     "output_type": "stream",
     "text": [
      " 58%|█████▊    | 21779/37550 [3:31:29<2:04:01,  2.12it/s] "
     ]
    },
    {
     "name": "stdout",
     "output_type": "stream",
     "text": [
      "[28] Train loss: 36.59189291800386\n",
      "[28] Train acc: 0.8419982513956001\n",
      "[28] Validation loss: 36.85274455858313\n",
      "[28] Validation acc: 0.8401363492012024\n"
     ]
    },
    {
     "name": "stderr",
     "output_type": "stream",
     "text": [
      " 60%|██████    | 22530/37550 [3:38:16<1:58:15,  2.12it/s] "
     ]
    },
    {
     "name": "stdout",
     "output_type": "stream",
     "text": [
      "[29] Train loss: 36.59367245776993\n",
      "[29] Train acc: 0.8419297144670144\n",
      "[29] Validation loss: 36.83216312953404\n",
      "[29] Validation acc: 0.8402470350265503\n"
     ]
    },
    {
     "name": "stderr",
     "output_type": "stream",
     "text": [
      " 62%|██████▏   | 23281/37550 [3:45:03<1:52:12,  2.12it/s] "
     ]
    },
    {
     "name": "stdout",
     "output_type": "stream",
     "text": [
      "[30] Train loss: 36.59265183831023\n",
      "[30] Train acc: 0.842109213973806\n",
      "[30] Validation loss: 36.83244341500798\n",
      "[30] Validation acc: 0.840135931968689\n"
     ]
    },
    {
     "name": "stderr",
     "output_type": "stream",
     "text": [
      " 64%|██████▍   | 24032/37550 [3:51:51<1:46:08,  2.12it/s] "
     ]
    },
    {
     "name": "stdout",
     "output_type": "stream",
     "text": [
      "[31] Train loss: 36.59042743169833\n",
      "[31] Train acc: 0.8421320589023646\n",
      "[31] Validation loss: 36.84885032132546\n",
      "[31] Validation acc: 0.8404685258865356\n"
     ]
    },
    {
     "name": "stderr",
     "output_type": "stream",
     "text": [
      " 66%|██████▌   | 24783/37550 [3:58:38<1:40:46,  2.11it/s] "
     ]
    },
    {
     "name": "stdout",
     "output_type": "stream",
     "text": [
      "[32] Train loss: 36.592692922498195\n",
      "[32] Train acc: 0.8422201765520119\n",
      "[32] Validation loss: 36.838114708847144\n",
      "[32] Validation acc: 0.840579628944397\n"
     ]
    },
    {
     "name": "stderr",
     "output_type": "stream",
     "text": [
      " 68%|██████▊   | 25534/37550 [4:05:25<1:35:09,  2.10it/s] "
     ]
    },
    {
     "name": "stdout",
     "output_type": "stream",
     "text": [
      "[33] Train loss: 36.5890567401119\n",
      "[33] Train acc: 0.842109213815072\n",
      "[33] Validation loss: 36.83396286105517\n",
      "[33] Validation acc: 0.8405056595802307\n"
     ]
    },
    {
     "name": "stderr",
     "output_type": "stream",
     "text": [
      " 70%|███████   | 26285/37550 [4:12:12<1:29:03,  2.11it/s] "
     ]
    },
    {
     "name": "stdout",
     "output_type": "stream",
     "text": [
      "[34] Train loss: 36.597994937718944\n",
      "[34] Train acc: 0.8421646959772122\n",
      "[34] Validation loss: 36.83965932952691\n",
      "[34] Validation acc: 0.8405055999755859\n"
     ]
    },
    {
     "name": "stderr",
     "output_type": "stream",
     "text": [
      " 72%|███████▏  | 27036/37550 [4:19:00<1:23:06,  2.11it/s] "
     ]
    },
    {
     "name": "stdout",
     "output_type": "stream",
     "text": [
      "[35] Train loss: 36.591968429707656\n",
      "[35] Train acc: 0.8420863691246144\n",
      "[35] Validation loss: 36.83280746981224\n",
      "[35] Validation acc: 0.8404316306114197\n"
     ]
    },
    {
     "name": "stderr",
     "output_type": "stream",
     "text": [
      " 74%|███████▍  | 27787/37550 [4:25:48<1:16:55,  2.12it/s] "
     ]
    },
    {
     "name": "stdout",
     "output_type": "stream",
     "text": [
      "[36] Train loss: 36.59167540025774\n",
      "[36] Train acc: 0.8421549042277584\n",
      "[36] Validation loss: 36.85099400348545\n",
      "[36] Validation acc: 0.8404318690299988\n"
     ]
    },
    {
     "name": "stderr",
     "output_type": "stream",
     "text": [
      " 76%|███████▌  | 28538/37550 [4:32:35<1:11:05,  2.11it/s] "
     ]
    },
    {
     "name": "stdout",
     "output_type": "stream",
     "text": [
      "[37] Train loss: 36.59274600571227\n",
      "[37] Train acc: 0.8421418500962492\n",
      "[37] Validation loss: 36.8407430411866\n",
      "[37] Validation acc: 0.8403946757316589\n"
     ]
    },
    {
     "name": "stderr",
     "output_type": "stream",
     "text": [
      " 78%|███████▊  | 29289/37550 [4:39:23<1:05:11,  2.11it/s] "
     ]
    },
    {
     "name": "stdout",
     "output_type": "stream",
     "text": [
      "[38] Train loss: 36.587126373768484\n",
      "[38] Train acc: 0.8421973320996555\n",
      "[38] Validation loss: 36.866285620268826\n",
      "[38] Validation acc: 0.8403578996658325\n"
     ]
    },
    {
     "name": "stderr",
     "output_type": "stream",
     "text": [
      " 80%|████████  | 30040/37550 [4:46:10<59:06,  2.12it/s]   "
     ]
    },
    {
     "name": "stdout",
     "output_type": "stream",
     "text": [
      "[39] Train loss: 36.589090457768954\n",
      "[39] Train acc: 0.8422528135474925\n",
      "[39] Validation loss: 36.85265118142833\n",
      "[39] Validation acc: 0.8404318690299988\n"
     ]
    },
    {
     "name": "stderr",
     "output_type": "stream",
     "text": [
      " 80%|████████  | 30108/37550 [4:47:10<1:03:06,  1.97it/s] "
     ]
    },
    {
     "ename": "KeyboardInterrupt",
     "evalue": "",
     "output_type": "error",
     "traceback": [
      "\u001b[0;31m---------------------------------------------------------------------------\u001b[0m",
      "\u001b[0;31mKeyboardInterrupt\u001b[0m                         Traceback (most recent call last)",
      "Cell \u001b[0;32mIn [12], line 13\u001b[0m\n\u001b[1;32m     11\u001b[0m train_loss \u001b[38;5;241m+\u001b[39m\u001b[38;5;241m=\u001b[39m loss\u001b[38;5;241m.\u001b[39mitem()\n\u001b[1;32m     12\u001b[0m train_acc \u001b[38;5;241m+\u001b[39m\u001b[38;5;241m=\u001b[39m accuracy(outputs, batch\u001b[38;5;241m.\u001b[39mlabels)\u001b[38;5;241m.\u001b[39mitem()\n\u001b[0;32m---> 13\u001b[0m \u001b[43mloss\u001b[49m\u001b[38;5;241;43m.\u001b[39;49m\u001b[43mbackward\u001b[49m\u001b[43m(\u001b[49m\u001b[43m)\u001b[49m\n\u001b[1;32m     14\u001b[0m optimizer\u001b[38;5;241m.\u001b[39mstep()\n\u001b[1;32m     15\u001b[0m optimizer\u001b[38;5;241m.\u001b[39mzero_grad()\n",
      "File \u001b[0;32m~/miniconda3/envs/ds/lib/python3.10/site-packages/torch/_tensor.py:487\u001b[0m, in \u001b[0;36mTensor.backward\u001b[0;34m(self, gradient, retain_graph, create_graph, inputs)\u001b[0m\n\u001b[1;32m    477\u001b[0m \u001b[39mif\u001b[39;00m has_torch_function_unary(\u001b[39mself\u001b[39m):\n\u001b[1;32m    478\u001b[0m     \u001b[39mreturn\u001b[39;00m handle_torch_function(\n\u001b[1;32m    479\u001b[0m         Tensor\u001b[39m.\u001b[39mbackward,\n\u001b[1;32m    480\u001b[0m         (\u001b[39mself\u001b[39m,),\n\u001b[0;32m   (...)\u001b[0m\n\u001b[1;32m    485\u001b[0m         inputs\u001b[39m=\u001b[39minputs,\n\u001b[1;32m    486\u001b[0m     )\n\u001b[0;32m--> 487\u001b[0m torch\u001b[39m.\u001b[39;49mautograd\u001b[39m.\u001b[39;49mbackward(\n\u001b[1;32m    488\u001b[0m     \u001b[39mself\u001b[39;49m, gradient, retain_graph, create_graph, inputs\u001b[39m=\u001b[39;49minputs\n\u001b[1;32m    489\u001b[0m )\n",
      "File \u001b[0;32m~/miniconda3/envs/ds/lib/python3.10/site-packages/torch/autograd/__init__.py:197\u001b[0m, in \u001b[0;36mbackward\u001b[0;34m(tensors, grad_tensors, retain_graph, create_graph, grad_variables, inputs)\u001b[0m\n\u001b[1;32m    192\u001b[0m     retain_graph \u001b[39m=\u001b[39m create_graph\n\u001b[1;32m    194\u001b[0m \u001b[39m# The reason we repeat same the comment below is that\u001b[39;00m\n\u001b[1;32m    195\u001b[0m \u001b[39m# some Python versions print out the first line of a multi-line function\u001b[39;00m\n\u001b[1;32m    196\u001b[0m \u001b[39m# calls in the traceback and some print out the last line\u001b[39;00m\n\u001b[0;32m--> 197\u001b[0m Variable\u001b[39m.\u001b[39;49m_execution_engine\u001b[39m.\u001b[39;49mrun_backward(  \u001b[39m# Calls into the C++ engine to run the backward pass\u001b[39;49;00m\n\u001b[1;32m    198\u001b[0m     tensors, grad_tensors_, retain_graph, create_graph, inputs,\n\u001b[1;32m    199\u001b[0m     allow_unreachable\u001b[39m=\u001b[39;49m\u001b[39mTrue\u001b[39;49;00m, accumulate_grad\u001b[39m=\u001b[39;49m\u001b[39mTrue\u001b[39;49;00m)\n",
      "\u001b[0;31mKeyboardInterrupt\u001b[0m: "
     ]
    }
   ],
   "source": [
    "progress_bar = tqdm(range(num_training_steps))\n",
    "\n",
    "for epoch in range(num_epochs):\n",
    "    train_loss = 0.0\n",
    "    train_acc = 0\n",
    "    model.train()\n",
    "    for batch in train_dl:\n",
    "        batch = batch.to(DEVICE)\n",
    "        outputs = model(batch)\n",
    "        loss = loss_fn(outputs, batch.labels)\n",
    "        train_loss += loss.item()\n",
    "        train_acc += accuracy(outputs, batch.labels).item()\n",
    "        loss.backward()\n",
    "        optimizer.step()\n",
    "        optimizer.zero_grad()\n",
    "        progress_bar.update(1)\n",
    "    train_loss /= l_train_dl\n",
    "    train_loss_hist.append(train_loss)\n",
    "    print(f\"[{epoch}] Train loss: {train_loss}\")\n",
    "    train_acc /= l_train_dl\n",
    "    train_acc_hist.append(train_acc)\n",
    "    print(f\"[{epoch}] Train acc: {train_acc}\")\n",
    "\n",
    "    val_loss = 0.0\n",
    "    val_acc = 0\n",
    "    model.eval()\n",
    "    for batch in validation_dl:\n",
    "        batch = batch.to(DEVICE)\n",
    "        outputs = model(batch)\n",
    "        loss = loss_fn(outputs, batch.labels)\n",
    "        val_loss += loss.item()\n",
    "        val_acc += accuracy(outputs, batch.labels).item()\n",
    "    val_loss /= l_val_dl\n",
    "    val_acc /= l_val_dl\n",
    "    # scheduler.step(val_acc)\n",
    "    scheduler.step(val_loss)\n",
    "    val_loss_hist.append(val_loss)\n",
    "    val_acc_hist.append(val_acc)\n",
    "    \n",
    "    print(f\"[{epoch}] Validation loss: {val_loss}\")\n",
    "    if (val_loss < val_loss_best):\n",
    "        print(f\"[{epoch}] New best loss on validation: {val_loss_best} -> {val_loss} , diff: {val_loss_best - val_loss}\")\n",
    "        val_loss_best = val_loss\n",
    "    print(f\"[{epoch}] Validation acc: {val_acc}\")\n",
    "    if (val_acc > val_acc_best):\n",
    "        print(f\"[{epoch}] New best acc on validation: {val_acc_best} -> {val_acc} , diff: {val_acc_best - val_acc}\")\n",
    "        val_acc_best = val_acc"
   ]
  },
  {
   "cell_type": "code",
   "execution_count": 14,
   "metadata": {},
   "outputs": [
    {
     "data": {
      "image/png": "[encoded data removed]",
      "image/svg+xml": "<?xml version=\"1.0\" encoding=\"utf-8\" standalone=\"no\"?>\n<!DOCTYPE svg PUBLIC \"-//W3C//DTD SVG 1.1//EN\"\n  \"http://www.w3.org/Graphics/SVG/1.1/DTD/svg11.dtd\">\n<svg xmlns:xlink=\"http://www.w3.org/1999/xlink\" width=\"414.46375pt\" height=\"325.986375pt\" viewBox=\"0 0 414.46375 325.986375\" xmlns=\"http://www.w3.org/2000/svg\" version=\"1.1\">\n <metadata>\n  <rdf:RDF xmlns:dc=\"http://purl.org/dc/elements/1.1/\" xmlns:cc=\"http://creativecommons.org/ns#\" xmlns:rdf=\"http://www.w3.org/1999/02/22-rdf-syntax-ns#\">\n   <cc:Work>\n    <dc:type rdf:resource=\"http://purl.org/dc/dcmitype/StillImage\"/>\n    <dc:date>2022-11-10T17:45:30.486786</dc:date>\n    <dc:format>image/svg+xml</dc:format>\n    <dc:creator>\n     <cc:Agent>\n      <dc:title>Matplotlib v3.5.3, https://matplotlib.org/</dc:title>\n     </cc:Agent>\n    </dc:creator>\n   </cc:Work>\n  </rdf:RDF>\n </metadata>\n <defs>\n  <style type=\"text/css\">*{stroke-linejoin: round; stroke-linecap: butt}</style>\n </defs>\n <g id=\"figure_1\">\n  <g id=\"patch_1\">\n   <path d=\"M 0 325.986375 \nL 414.46375 325.986375 \nL 414.46375 0 \nL 0 0 \nz\n\" style=\"fill: #ffffff\"/>\n  </g>\n  <g id=\"axes_1\">\n   <g id=\"patch_2\">\n    <path d=\"M 50.14375 288.430125 \nL 407.26375 288.430125 \nL 407.26375 22.318125 \nL 50.14375 22.318125 \nz\n\" style=\"fill: #ffffff\"/>\n   </g>\n   <g id=\"matplotlib.axis_1\">\n    <g id=\"xtick_1\">\n     <g id=\"line2d_1\">\n      <defs>\n       <path id=\"m1d5e5fd141\" d=\"M 0 0 \nL 0 3.5 \n\" style=\"stroke: #000000; stroke-width: 0.8\"/>\n      </defs>\n      <g>\n       <use xlink:href=\"#m1d5e5fd141\" x=\"66.376477\" y=\"288.430125\" style=\"stroke: #000000; stroke-width: 0.8\"/>\n      </g>\n     </g>\n     <g id=\"text_1\">\n      <!-- 0 -->\n      <g transform=\"translate(63.195227 303.028562)scale(0.1 -0.1)\">\n       <defs>\n        <path id=\"DejaVuSans-30\" d=\"M 2034 4250 \nQ 1547 4250 1301 3770 \nQ 1056 3291 1056 2328 \nQ 1056 1369 1301 889 \nQ 1547 409 2034 409 \nQ 2525 409 2770 889 \nQ 3016 1369 3016 2328 \nQ 3016 3291 2770 3770 \nQ 2525 4250 2034 4250 \nz\nM 2034 4750 \nQ 2819 4750 3233 4129 \nQ 3647 3509 3647 2328 \nQ 3647 1150 3233 529 \nQ 2819 -91 2034 -91 \nQ 1250 -91 836 529 \nQ 422 1150 422 2328 \nQ 422 3509 836 4129 \nQ 1250 4750 2034 4750 \nz\n\" transform=\"scale(0.015625)\"/>\n       </defs>\n       <use xlink:href=\"#DejaVuSans-30\"/>\n      </g>\n     </g>\n    </g>\n    <g id=\"xtick_2\">\n     <g id=\"line2d_2\">\n      <g>\n       <use xlink:href=\"#m1d5e5fd141\" x=\"107.998855\" y=\"288.430125\" style=\"stroke: #000000; stroke-width: 0.8\"/>\n      </g>\n     </g>\n     <g id=\"text_2\">\n      <!-- 5 -->\n      <g transform=\"translate(104.817605 303.028562)scale(0.1 -0.1)\">\n       <defs>\n        <path id=\"DejaVuSans-35\" d=\"M 691 4666 \nL 3169 4666 \nL 3169 4134 \nL 1269 4134 \nL 1269 2991 \nQ 1406 3038 1543 3061 \nQ 1681 3084 1819 3084 \nQ 2600 3084 3056 2656 \nQ 3513 2228 3513 1497 \nQ 3513 744 3044 326 \nQ 2575 -91 1722 -91 \nQ 1428 -91 1123 -41 \nQ 819 9 494 109 \nL 494 744 \nQ 775 591 1075 516 \nQ 1375 441 1709 441 \nQ 2250 441 2565 725 \nQ 2881 1009 2881 1497 \nQ 2881 1984 2565 2268 \nQ 2250 2553 1709 2553 \nQ 1456 2553 1204 2497 \nQ 953 2441 691 2322 \nL 691 4666 \nz\n\" transform=\"scale(0.015625)\"/>\n       </defs>\n       <use xlink:href=\"#DejaVuSans-35\"/>\n      </g>\n     </g>\n    </g>\n    <g id=\"xtick_3\">\n     <g id=\"line2d_3\">\n      <g>\n       <use xlink:href=\"#m1d5e5fd141\" x=\"149.621233\" y=\"288.430125\" style=\"stroke: #000000; stroke-width: 0.8\"/>\n      </g>\n     </g>\n     <g id=\"text_3\">\n      <!-- 10 -->\n      <g transform=\"translate(143.258733 303.028562)scale(0.1 -0.1)\">\n       <defs>\n        <path id=\"DejaVuSans-31\" d=\"M 794 531 \nL 1825 531 \nL 1825 4091 \nL 703 3866 \nL 703 4441 \nL 1819 4666 \nL 2450 4666 \nL 2450 531 \nL 3481 531 \nL 3481 0 \nL 794 0 \nL 794 531 \nz\n\" transform=\"scale(0.015625)\"/>\n       </defs>\n       <use xlink:href=\"#DejaVuSans-31\"/>\n       <use xlink:href=\"#DejaVuSans-30\" x=\"63.623047\"/>\n      </g>\n     </g>\n    </g>\n    <g id=\"xtick_4\">\n     <g id=\"line2d_4\">\n      <g>\n       <use xlink:href=\"#m1d5e5fd141\" x=\"191.24361\" y=\"288.430125\" style=\"stroke: #000000; stroke-width: 0.8\"/>\n      </g>\n     </g>\n     <g id=\"text_4\">\n      <!-- 15 -->\n      <g transform=\"translate(184.88111 303.028562)scale(0.1 -0.1)\">\n       <use xlink:href=\"#DejaVuSans-31\"/>\n       <use xlink:href=\"#DejaVuSans-35\" x=\"63.623047\"/>\n      </g>\n     </g>\n    </g>\n    <g id=\"xtick_5\">\n     <g id=\"line2d_5\">\n      <g>\n       <use xlink:href=\"#m1d5e5fd141\" x=\"232.865988\" y=\"288.430125\" style=\"stroke: #000000; stroke-width: 0.8\"/>\n      </g>\n     </g>\n     <g id=\"text_5\">\n      <!-- 20 -->\n      <g transform=\"translate(226.503488 303.028562)scale(0.1 -0.1)\">\n       <defs>\n        <path id=\"DejaVuSans-32\" d=\"M 1228 531 \nL 3431 531 \nL 3431 0 \nL 469 0 \nL 469 531 \nQ 828 903 1448 1529 \nQ 2069 2156 2228 2338 \nQ 2531 2678 2651 2914 \nQ 2772 3150 2772 3378 \nQ 2772 3750 2511 3984 \nQ 2250 4219 1831 4219 \nQ 1534 4219 1204 4116 \nQ 875 4013 500 3803 \nL 500 4441 \nQ 881 4594 1212 4672 \nQ 1544 4750 1819 4750 \nQ 2544 4750 2975 4387 \nQ 3406 4025 3406 3419 \nQ 3406 3131 3298 2873 \nQ 3191 2616 2906 2266 \nQ 2828 2175 2409 1742 \nQ 1991 1309 1228 531 \nz\n\" transform=\"scale(0.015625)\"/>\n       </defs>\n       <use xlink:href=\"#DejaVuSans-32\"/>\n       <use xlink:href=\"#DejaVuSans-30\" x=\"63.623047\"/>\n      </g>\n     </g>\n    </g>\n    <g id=\"xtick_6\">\n     <g id=\"line2d_6\">\n      <g>\n       <use xlink:href=\"#m1d5e5fd141\" x=\"274.488365\" y=\"288.430125\" style=\"stroke: #000000; stroke-width: 0.8\"/>\n      </g>\n     </g>\n     <g id=\"text_6\">\n      <!-- 25 -->\n      <g transform=\"translate(268.125865 303.028562)scale(0.1 -0.1)\">\n       <use xlink:href=\"#DejaVuSans-32\"/>\n       <use xlink:href=\"#DejaVuSans-35\" x=\"63.623047\"/>\n      </g>\n     </g>\n    </g>\n    <g id=\"xtick_7\">\n     <g id=\"line2d_7\">\n      <g>\n       <use xlink:href=\"#m1d5e5fd141\" x=\"316.110743\" y=\"288.430125\" style=\"stroke: #000000; stroke-width: 0.8\"/>\n      </g>\n     </g>\n     <g id=\"text_7\">\n      <!-- 30 -->\n      <g transform=\"translate(309.748243 303.028562)scale(0.1 -0.1)\">\n       <defs>\n        <path id=\"DejaVuSans-33\" d=\"M 2597 2516 \nQ 3050 2419 3304 2112 \nQ 3559 1806 3559 1356 \nQ 3559 666 3084 287 \nQ 2609 -91 1734 -91 \nQ 1441 -91 1130 -33 \nQ 819 25 488 141 \nL 488 750 \nQ 750 597 1062 519 \nQ 1375 441 1716 441 \nQ 2309 441 2620 675 \nQ 2931 909 2931 1356 \nQ 2931 1769 2642 2001 \nQ 2353 2234 1838 2234 \nL 1294 2234 \nL 1294 2753 \nL 1863 2753 \nQ 2328 2753 2575 2939 \nQ 2822 3125 2822 3475 \nQ 2822 3834 2567 4026 \nQ 2313 4219 1838 4219 \nQ 1578 4219 1281 4162 \nQ 984 4106 628 3988 \nL 628 4550 \nQ 988 4650 1302 4700 \nQ 1616 4750 1894 4750 \nQ 2613 4750 3031 4423 \nQ 3450 4097 3450 3541 \nQ 3450 3153 3228 2886 \nQ 3006 2619 2597 2516 \nz\n\" transform=\"scale(0.015625)\"/>\n       </defs>\n       <use xlink:href=\"#DejaVuSans-33\"/>\n       <use xlink:href=\"#DejaVuSans-30\" x=\"63.623047\"/>\n      </g>\n     </g>\n    </g>\n    <g id=\"xtick_8\">\n     <g id=\"line2d_8\">\n      <g>\n       <use xlink:href=\"#m1d5e5fd141\" x=\"357.733121\" y=\"288.430125\" style=\"stroke: #000000; stroke-width: 0.8\"/>\n      </g>\n     </g>\n     <g id=\"text_8\">\n      <!-- 35 -->\n      <g transform=\"translate(351.370621 303.028562)scale(0.1 -0.1)\">\n       <use xlink:href=\"#DejaVuSans-33\"/>\n       <use xlink:href=\"#DejaVuSans-35\" x=\"63.623047\"/>\n      </g>\n     </g>\n    </g>\n    <g id=\"xtick_9\">\n     <g id=\"line2d_9\">\n      <g>\n       <use xlink:href=\"#m1d5e5fd141\" x=\"399.355498\" y=\"288.430125\" style=\"stroke: #000000; stroke-width: 0.8\"/>\n      </g>\n     </g>\n     <g id=\"text_9\">\n      <!-- 40 -->\n      <g transform=\"translate(392.992998 303.028562)scale(0.1 -0.1)\">\n       <defs>\n        <path id=\"DejaVuSans-34\" d=\"M 2419 4116 \nL 825 1625 \nL 2419 1625 \nL 2419 4116 \nz\nM 2253 4666 \nL 3047 4666 \nL 3047 1625 \nL 3713 1625 \nL 3713 1100 \nL 3047 1100 \nL 3047 0 \nL 2419 0 \nL 2419 1100 \nL 313 1100 \nL 313 1709 \nL 2253 4666 \nz\n\" transform=\"scale(0.015625)\"/>\n       </defs>\n       <use xlink:href=\"#DejaVuSans-34\"/>\n       <use xlink:href=\"#DejaVuSans-30\" x=\"63.623047\"/>\n      </g>\n     </g>\n    </g>\n    <g id=\"text_10\">\n     <!-- Epochs -->\n     <g transform=\"translate(210.788125 316.706687)scale(0.1 -0.1)\">\n      <defs>\n       <path id=\"DejaVuSans-45\" d=\"M 628 4666 \nL 3578 4666 \nL 3578 4134 \nL 1259 4134 \nL 1259 2753 \nL 3481 2753 \nL 3481 2222 \nL 1259 2222 \nL 1259 531 \nL 3634 531 \nL 3634 0 \nL 628 0 \nL 628 4666 \nz\n\" transform=\"scale(0.015625)\"/>\n       <path id=\"DejaVuSans-70\" d=\"M 1159 525 \nL 1159 -1331 \nL 581 -1331 \nL 581 3500 \nL 1159 3500 \nL 1159 2969 \nQ 1341 3281 1617 3432 \nQ 1894 3584 2278 3584 \nQ 2916 3584 3314 3078 \nQ 3713 2572 3713 1747 \nQ 3713 922 3314 415 \nQ 2916 -91 2278 -91 \nQ 1894 -91 1617 61 \nQ 1341 213 1159 525 \nz\nM 3116 1747 \nQ 3116 2381 2855 2742 \nQ 2594 3103 2138 3103 \nQ 1681 3103 1420 2742 \nQ 1159 2381 1159 1747 \nQ 1159 1113 1420 752 \nQ 1681 391 2138 391 \nQ 2594 391 2855 752 \nQ 3116 1113 3116 1747 \nz\n\" transform=\"scale(0.015625)\"/>\n       <path id=\"DejaVuSans-6f\" d=\"M 1959 3097 \nQ 1497 3097 1228 2736 \nQ 959 2375 959 1747 \nQ 959 1119 1226 758 \nQ 1494 397 1959 397 \nQ 2419 397 2687 759 \nQ 2956 1122 2956 1747 \nQ 2956 2369 2687 2733 \nQ 2419 3097 1959 3097 \nz\nM 1959 3584 \nQ 2709 3584 3137 3096 \nQ 3566 2609 3566 1747 \nQ 3566 888 3137 398 \nQ 2709 -91 1959 -91 \nQ 1206 -91 779 398 \nQ 353 888 353 1747 \nQ 353 2609 779 3096 \nQ 1206 3584 1959 3584 \nz\n\" transform=\"scale(0.015625)\"/>\n       <path id=\"DejaVuSans-63\" d=\"M 3122 3366 \nL 3122 2828 \nQ 2878 2963 2633 3030 \nQ 2388 3097 2138 3097 \nQ 1578 3097 1268 2742 \nQ 959 2388 959 1747 \nQ 959 1106 1268 751 \nQ 1578 397 2138 397 \nQ 2388 397 2633 464 \nQ 2878 531 3122 666 \nL 3122 134 \nQ 2881 22 2623 -34 \nQ 2366 -91 2075 -91 \nQ 1284 -91 818 406 \nQ 353 903 353 1747 \nQ 353 2603 823 3093 \nQ 1294 3584 2113 3584 \nQ 2378 3584 2631 3529 \nQ 2884 3475 3122 3366 \nz\n\" transform=\"scale(0.015625)\"/>\n       <path id=\"DejaVuSans-68\" d=\"M 3513 2113 \nL 3513 0 \nL 2938 0 \nL 2938 2094 \nQ 2938 2591 2744 2837 \nQ 2550 3084 2163 3084 \nQ 1697 3084 1428 2787 \nQ 1159 2491 1159 1978 \nL 1159 0 \nL 581 0 \nL 581 4863 \nL 1159 4863 \nL 1159 2956 \nQ 1366 3272 1645 3428 \nQ 1925 3584 2291 3584 \nQ 2894 3584 3203 3211 \nQ 3513 2838 3513 2113 \nz\n\" transform=\"scale(0.015625)\"/>\n       <path id=\"DejaVuSans-73\" d=\"M 2834 3397 \nL 2834 2853 \nQ 2591 2978 2328 3040 \nQ 2066 3103 1784 3103 \nQ 1356 3103 1142 2972 \nQ 928 2841 928 2578 \nQ 928 2378 1081 2264 \nQ 1234 2150 1697 2047 \nL 1894 2003 \nQ 2506 1872 2764 1633 \nQ 3022 1394 3022 966 \nQ 3022 478 2636 193 \nQ 2250 -91 1575 -91 \nQ 1294 -91 989 -36 \nQ 684 19 347 128 \nL 347 722 \nQ 666 556 975 473 \nQ 1284 391 1588 391 \nQ 1994 391 2212 530 \nQ 2431 669 2431 922 \nQ 2431 1156 2273 1281 \nQ 2116 1406 1581 1522 \nL 1381 1569 \nQ 847 1681 609 1914 \nQ 372 2147 372 2553 \nQ 372 3047 722 3315 \nQ 1072 3584 1716 3584 \nQ 2034 3584 2315 3537 \nQ 2597 3491 2834 3397 \nz\n\" transform=\"scale(0.015625)\"/>\n      </defs>\n      <use xlink:href=\"#DejaVuSans-45\"/>\n      <use xlink:href=\"#DejaVuSans-70\" x=\"63.183594\"/>\n      <use xlink:href=\"#DejaVuSans-6f\" x=\"126.660156\"/>\n      <use xlink:href=\"#DejaVuSans-63\" x=\"187.841797\"/>\n      <use xlink:href=\"#DejaVuSans-68\" x=\"242.822266\"/>\n      <use xlink:href=\"#DejaVuSans-73\" x=\"306.201172\"/>\n     </g>\n    </g>\n   </g>\n   <g id=\"matplotlib.axis_2\">\n    <g id=\"ytick_1\">\n     <g id=\"line2d_10\">\n      <defs>\n       <path id=\"m01393640e4\" d=\"M 0 0 \nL -3.5 0 \n\" style=\"stroke: #000000; stroke-width: 0.8\"/>\n      </defs>\n      <g>\n       <use xlink:href=\"#m01393640e4\" x=\"50.14375\" y=\"255.774418\" style=\"stroke: #000000; stroke-width: 0.8\"/>\n      </g>\n     </g>\n     <g id=\"text_11\">\n      <!-- 36.5 -->\n      <g transform=\"translate(20.878125 259.573636)scale(0.1 -0.1)\">\n       <defs>\n        <path id=\"DejaVuSans-36\" d=\"M 2113 2584 \nQ 1688 2584 1439 2293 \nQ 1191 2003 1191 1497 \nQ 1191 994 1439 701 \nQ 1688 409 2113 409 \nQ 2538 409 2786 701 \nQ 3034 994 3034 1497 \nQ 3034 2003 2786 2293 \nQ 2538 2584 2113 2584 \nz\nM 3366 4563 \nL 3366 3988 \nQ 3128 4100 2886 4159 \nQ 2644 4219 2406 4219 \nQ 1781 4219 1451 3797 \nQ 1122 3375 1075 2522 \nQ 1259 2794 1537 2939 \nQ 1816 3084 2150 3084 \nQ 2853 3084 3261 2657 \nQ 3669 2231 3669 1497 \nQ 3669 778 3244 343 \nQ 2819 -91 2113 -91 \nQ 1303 -91 875 529 \nQ 447 1150 447 2328 \nQ 447 3434 972 4092 \nQ 1497 4750 2381 4750 \nQ 2619 4750 2861 4703 \nQ 3103 4656 3366 4563 \nz\n\" transform=\"scale(0.015625)\"/>\n        <path id=\"DejaVuSans-2e\" d=\"M 684 794 \nL 1344 794 \nL 1344 0 \nL 684 0 \nL 684 794 \nz\n\" transform=\"scale(0.015625)\"/>\n       </defs>\n       <use xlink:href=\"#DejaVuSans-33\"/>\n       <use xlink:href=\"#DejaVuSans-36\" x=\"63.623047\"/>\n       <use xlink:href=\"#DejaVuSans-2e\" x=\"127.246094\"/>\n       <use xlink:href=\"#DejaVuSans-35\" x=\"159.033203\"/>\n      </g>\n     </g>\n    </g>\n    <g id=\"ytick_2\">\n     <g id=\"line2d_11\">\n      <g>\n       <use xlink:href=\"#m01393640e4\" x=\"50.14375\" y=\"196.724808\" style=\"stroke: #000000; stroke-width: 0.8\"/>\n      </g>\n     </g>\n     <g id=\"text_12\">\n      <!-- 37.0 -->\n      <g transform=\"translate(20.878125 200.524027)scale(0.1 -0.1)\">\n       <defs>\n        <path id=\"DejaVuSans-37\" d=\"M 525 4666 \nL 3525 4666 \nL 3525 4397 \nL 1831 0 \nL 1172 0 \nL 2766 4134 \nL 525 4134 \nL 525 4666 \nz\n\" transform=\"scale(0.015625)\"/>\n       </defs>\n       <use xlink:href=\"#DejaVuSans-33\"/>\n       <use xlink:href=\"#DejaVuSans-37\" x=\"63.623047\"/>\n       <use xlink:href=\"#DejaVuSans-2e\" x=\"127.246094\"/>\n       <use xlink:href=\"#DejaVuSans-30\" x=\"159.033203\"/>\n      </g>\n     </g>\n    </g>\n    <g id=\"ytick_3\">\n     <g id=\"line2d_12\">\n      <g>\n       <use xlink:href=\"#m01393640e4\" x=\"50.14375\" y=\"137.675198\" style=\"stroke: #000000; stroke-width: 0.8\"/>\n      </g>\n     </g>\n     <g id=\"text_13\">\n      <!-- 37.5 -->\n      <g transform=\"translate(20.878125 141.474417)scale(0.1 -0.1)\">\n       <use xlink:href=\"#DejaVuSans-33\"/>\n       <use xlink:href=\"#DejaVuSans-37\" x=\"63.623047\"/>\n       <use xlink:href=\"#DejaVuSans-2e\" x=\"127.246094\"/>\n       <use xlink:href=\"#DejaVuSans-35\" x=\"159.033203\"/>\n      </g>\n     </g>\n    </g>\n    <g id=\"ytick_4\">\n     <g id=\"line2d_13\">\n      <g>\n       <use xlink:href=\"#m01393640e4\" x=\"50.14375\" y=\"78.625588\" style=\"stroke: #000000; stroke-width: 0.8\"/>\n      </g>\n     </g>\n     <g id=\"text_14\">\n      <!-- 38.0 -->\n      <g transform=\"translate(20.878125 82.424807)scale(0.1 -0.1)\">\n       <defs>\n        <path id=\"DejaVuSans-38\" d=\"M 2034 2216 \nQ 1584 2216 1326 1975 \nQ 1069 1734 1069 1313 \nQ 1069 891 1326 650 \nQ 1584 409 2034 409 \nQ 2484 409 2743 651 \nQ 3003 894 3003 1313 \nQ 3003 1734 2745 1975 \nQ 2488 2216 2034 2216 \nz\nM 1403 2484 \nQ 997 2584 770 2862 \nQ 544 3141 544 3541 \nQ 544 4100 942 4425 \nQ 1341 4750 2034 4750 \nQ 2731 4750 3128 4425 \nQ 3525 4100 3525 3541 \nQ 3525 3141 3298 2862 \nQ 3072 2584 2669 2484 \nQ 3125 2378 3379 2068 \nQ 3634 1759 3634 1313 \nQ 3634 634 3220 271 \nQ 2806 -91 2034 -91 \nQ 1263 -91 848 271 \nQ 434 634 434 1313 \nQ 434 1759 690 2068 \nQ 947 2378 1403 2484 \nz\nM 1172 3481 \nQ 1172 3119 1398 2916 \nQ 1625 2713 2034 2713 \nQ 2441 2713 2670 2916 \nQ 2900 3119 2900 3481 \nQ 2900 3844 2670 4047 \nQ 2441 4250 2034 4250 \nQ 1625 4250 1398 4047 \nQ 1172 3844 1172 3481 \nz\n\" transform=\"scale(0.015625)\"/>\n       </defs>\n       <use xlink:href=\"#DejaVuSans-33\"/>\n       <use xlink:href=\"#DejaVuSans-38\" x=\"63.623047\"/>\n       <use xlink:href=\"#DejaVuSans-2e\" x=\"127.246094\"/>\n       <use xlink:href=\"#DejaVuSans-30\" x=\"159.033203\"/>\n      </g>\n     </g>\n    </g>\n    <g id=\"text_15\">\n     <!-- Loss -->\n     <g transform=\"translate(14.798438 166.341312)rotate(-90)scale(0.1 -0.1)\">\n      <defs>\n       <path id=\"DejaVuSans-4c\" d=\"M 628 4666 \nL 1259 4666 \nL 1259 531 \nL 3531 531 \nL 3531 0 \nL 628 0 \nL 628 4666 \nz\n\" transform=\"scale(0.015625)\"/>\n      </defs>\n      <use xlink:href=\"#DejaVuSans-4c\"/>\n      <use xlink:href=\"#DejaVuSans-6f\" x=\"53.962891\"/>\n      <use xlink:href=\"#DejaVuSans-73\" x=\"115.144531\"/>\n      <use xlink:href=\"#DejaVuSans-73\" x=\"167.244141\"/>\n     </g>\n    </g>\n   </g>\n   <g id=\"line2d_14\">\n    <path d=\"M 66.376477 84.61071 \nL 74.700953 83.698297 \nL 83.025428 78.241898 \nL 91.349904 78.128397 \nL 99.674379 116.35683 \nL 107.998855 193.826538 \nL 116.32333 143.295474 \nL 124.647806 253.089326 \nL 132.972281 266.473968 \nL 141.296757 276.334125 \nL 149.621233 268.791566 \nL 157.945708 271.898673 \nL 166.270184 254.951471 \nL 174.594659 244.644229 \nL 182.919135 244.724717 \nL 191.24361 244.904118 \nL 199.568086 245.427249 \nL 207.892561 245.214999 \nL 216.217037 244.603557 \nL 224.541512 244.454688 \nL 232.865988 244.631078 \nL 241.190463 244.996724 \nL 249.514939 244.62181 \nL 257.839414 244.80253 \nL 266.16389 243.793694 \nL 274.488365 244.85633 \nL 282.812841 244.69812 \nL 291.137316 244.873964 \nL 299.461792 244.921936 \nL 307.786267 244.711774 \nL 316.110743 244.832308 \nL 324.435219 245.095009 \nL 332.759694 244.827456 \nL 341.08417 245.256886 \nL 349.408645 244.201292 \nL 357.733121 244.913018 \nL 366.057596 244.947624 \nL 374.382072 244.821187 \nL 382.706547 245.484861 \nL 391.031023 245.252904 \n\" clip-path=\"url(#pb68d2ba5e6)\" style=\"fill: none; stroke: #0000ff; stroke-width: 1.5; stroke-linecap: square\"/>\n   </g>\n   <g id=\"line2d_15\">\n    <path d=\"M 66.376477 80.469564 \nL 74.700953 56.673471 \nL 83.025428 40.459263 \nL 91.349904 34.414125 \nL 99.674379 199.556484 \nL 107.998855 222.730743 \nL 116.32333 214.674764 \nL 124.647806 182.595912 \nL 132.972281 264.460852 \nL 141.296757 240.26069 \nL 149.621233 239.507387 \nL 157.945708 242.647698 \nL 166.270184 216.373817 \nL 174.594659 214.991216 \nL 182.919135 214.877038 \nL 191.24361 216.026858 \nL 199.568086 213.816794 \nL 207.892561 215.494314 \nL 216.217037 217.045499 \nL 224.541512 214.77788 \nL 232.865988 215.619369 \nL 241.190463 215.967 \nL 249.514939 214.972499 \nL 257.839414 216.049156 \nL 266.16389 215.358176 \nL 274.488365 215.458066 \nL 282.812841 217.880101 \nL 291.137316 216.627604 \nL 299.461792 214.115561 \nL 307.786267 216.546211 \nL 316.110743 216.51311 \nL 324.435219 214.575467 \nL 332.759694 215.843334 \nL 341.08417 216.333664 \nL 349.408645 215.660916 \nL 357.733121 216.470115 \nL 366.057596 214.3223 \nL 374.382072 215.53293 \nL 382.706547 212.516372 \nL 391.031023 214.126588 \n\" clip-path=\"url(#pb68d2ba5e6)\" style=\"fill: none; stroke: #ff0000; stroke-width: 1.5; stroke-linecap: square\"/>\n   </g>\n   <g id=\"patch_3\">\n    <path d=\"M 50.14375 288.430125 \nL 50.14375 22.318125 \n\" style=\"fill: none; stroke: #000000; stroke-width: 0.8; stroke-linejoin: miter; stroke-linecap: square\"/>\n   </g>\n   <g id=\"patch_4\">\n    <path d=\"M 407.26375 288.430125 \nL 407.26375 22.318125 \n\" style=\"fill: none; stroke: #000000; stroke-width: 0.8; stroke-linejoin: miter; stroke-linecap: square\"/>\n   </g>\n   <g id=\"patch_5\">\n    <path d=\"M 50.14375 288.430125 \nL 407.26375 288.430125 \n\" style=\"fill: none; stroke: #000000; stroke-width: 0.8; stroke-linejoin: miter; stroke-linecap: square\"/>\n   </g>\n   <g id=\"patch_6\">\n    <path d=\"M 50.14375 22.318125 \nL 407.26375 22.318125 \n\" style=\"fill: none; stroke: #000000; stroke-width: 0.8; stroke-linejoin: miter; stroke-linecap: square\"/>\n   </g>\n   <g id=\"text_16\">\n    <!-- Training and Validation loss -->\n    <g transform=\"translate(146.805625 16.318125)scale(0.12 -0.12)\">\n     <defs>\n      <path id=\"DejaVuSans-54\" d=\"M -19 4666 \nL 3928 4666 \nL 3928 4134 \nL 2272 4134 \nL 2272 0 \nL 1638 0 \nL 1638 4134 \nL -19 4134 \nL -19 4666 \nz\n\" transform=\"scale(0.015625)\"/>\n      <path id=\"DejaVuSans-72\" d=\"M 2631 2963 \nQ 2534 3019 2420 3045 \nQ 2306 3072 2169 3072 \nQ 1681 3072 1420 2755 \nQ 1159 2438 1159 1844 \nL 1159 0 \nL 581 0 \nL 581 3500 \nL 1159 3500 \nL 1159 2956 \nQ 1341 3275 1631 3429 \nQ 1922 3584 2338 3584 \nQ 2397 3584 2469 3576 \nQ 2541 3569 2628 3553 \nL 2631 2963 \nz\n\" transform=\"scale(0.015625)\"/>\n      <path id=\"DejaVuSans-61\" d=\"M 2194 1759 \nQ 1497 1759 1228 1600 \nQ 959 1441 959 1056 \nQ 959 750 1161 570 \nQ 1363 391 1709 391 \nQ 2188 391 2477 730 \nQ 2766 1069 2766 1631 \nL 2766 1759 \nL 2194 1759 \nz\nM 3341 1997 \nL 3341 0 \nL 2766 0 \nL 2766 531 \nQ 2569 213 2275 61 \nQ 1981 -91 1556 -91 \nQ 1019 -91 701 211 \nQ 384 513 384 1019 \nQ 384 1609 779 1909 \nQ 1175 2209 1959 2209 \nL 2766 2209 \nL 2766 2266 \nQ 2766 2663 2505 2880 \nQ 2244 3097 1772 3097 \nQ 1472 3097 1187 3025 \nQ 903 2953 641 2809 \nL 641 3341 \nQ 956 3463 1253 3523 \nQ 1550 3584 1831 3584 \nQ 2591 3584 2966 3190 \nQ 3341 2797 3341 1997 \nz\n\" transform=\"scale(0.015625)\"/>\n      <path id=\"DejaVuSans-69\" d=\"M 603 3500 \nL 1178 3500 \nL 1178 0 \nL 603 0 \nL 603 3500 \nz\nM 603 4863 \nL 1178 4863 \nL 1178 4134 \nL 603 4134 \nL 603 4863 \nz\n\" transform=\"scale(0.015625)\"/>\n      <path id=\"DejaVuSans-6e\" d=\"M 3513 2113 \nL 3513 0 \nL 2938 0 \nL 2938 2094 \nQ 2938 2591 2744 2837 \nQ 2550 3084 2163 3084 \nQ 1697 3084 1428 2787 \nQ 1159 2491 1159 1978 \nL 1159 0 \nL 581 0 \nL 581 3500 \nL 1159 3500 \nL 1159 2956 \nQ 1366 3272 1645 3428 \nQ 1925 3584 2291 3584 \nQ 2894 3584 3203 3211 \nQ 3513 2838 3513 2113 \nz\n\" transform=\"scale(0.015625)\"/>\n      <path id=\"DejaVuSans-67\" d=\"M 2906 1791 \nQ 2906 2416 2648 2759 \nQ 2391 3103 1925 3103 \nQ 1463 3103 1205 2759 \nQ 947 2416 947 1791 \nQ 947 1169 1205 825 \nQ 1463 481 1925 481 \nQ 2391 481 2648 825 \nQ 2906 1169 2906 1791 \nz\nM 3481 434 \nQ 3481 -459 3084 -895 \nQ 2688 -1331 1869 -1331 \nQ 1566 -1331 1297 -1286 \nQ 1028 -1241 775 -1147 \nL 775 -588 \nQ 1028 -725 1275 -790 \nQ 1522 -856 1778 -856 \nQ 2344 -856 2625 -561 \nQ 2906 -266 2906 331 \nL 2906 616 \nQ 2728 306 2450 153 \nQ 2172 0 1784 0 \nQ 1141 0 747 490 \nQ 353 981 353 1791 \nQ 353 2603 747 3093 \nQ 1141 3584 1784 3584 \nQ 2172 3584 2450 3431 \nQ 2728 3278 2906 2969 \nL 2906 3500 \nL 3481 3500 \nL 3481 434 \nz\n\" transform=\"scale(0.015625)\"/>\n      <path id=\"DejaVuSans-20\" transform=\"scale(0.015625)\"/>\n      <path id=\"DejaVuSans-64\" d=\"M 2906 2969 \nL 2906 4863 \nL 3481 4863 \nL 3481 0 \nL 2906 0 \nL 2906 525 \nQ 2725 213 2448 61 \nQ 2172 -91 1784 -91 \nQ 1150 -91 751 415 \nQ 353 922 353 1747 \nQ 353 2572 751 3078 \nQ 1150 3584 1784 3584 \nQ 2172 3584 2448 3432 \nQ 2725 3281 2906 2969 \nz\nM 947 1747 \nQ 947 1113 1208 752 \nQ 1469 391 1925 391 \nQ 2381 391 2643 752 \nQ 2906 1113 2906 1747 \nQ 2906 2381 2643 2742 \nQ 2381 3103 1925 3103 \nQ 1469 3103 1208 2742 \nQ 947 2381 947 1747 \nz\n\" transform=\"scale(0.015625)\"/>\n      <path id=\"DejaVuSans-56\" d=\"M 1831 0 \nL 50 4666 \nL 709 4666 \nL 2188 738 \nL 3669 4666 \nL 4325 4666 \nL 2547 0 \nL 1831 0 \nz\n\" transform=\"scale(0.015625)\"/>\n      <path id=\"DejaVuSans-6c\" d=\"M 603 4863 \nL 1178 4863 \nL 1178 0 \nL 603 0 \nL 603 4863 \nz\n\" transform=\"scale(0.015625)\"/>\n      <path id=\"DejaVuSans-74\" d=\"M 1172 4494 \nL 1172 3500 \nL 2356 3500 \nL 2356 3053 \nL 1172 3053 \nL 1172 1153 \nQ 1172 725 1289 603 \nQ 1406 481 1766 481 \nL 2356 481 \nL 2356 0 \nL 1766 0 \nQ 1100 0 847 248 \nQ 594 497 594 1153 \nL 594 3053 \nL 172 3053 \nL 172 3500 \nL 594 3500 \nL 594 4494 \nL 1172 4494 \nz\n\" transform=\"scale(0.015625)\"/>\n     </defs>\n     <use xlink:href=\"#DejaVuSans-54\"/>\n     <use xlink:href=\"#DejaVuSans-72\" x=\"46.333984\"/>\n     <use xlink:href=\"#DejaVuSans-61\" x=\"87.447266\"/>\n     <use xlink:href=\"#DejaVuSans-69\" x=\"148.726562\"/>\n     <use xlink:href=\"#DejaVuSans-6e\" x=\"176.509766\"/>\n     <use xlink:href=\"#DejaVuSans-69\" x=\"239.888672\"/>\n     <use xlink:href=\"#DejaVuSans-6e\" x=\"267.671875\"/>\n     <use xlink:href=\"#DejaVuSans-67\" x=\"331.050781\"/>\n     <use xlink:href=\"#DejaVuSans-20\" x=\"394.527344\"/>\n     <use xlink:href=\"#DejaVuSans-61\" x=\"426.314453\"/>\n     <use xlink:href=\"#DejaVuSans-6e\" x=\"487.59375\"/>\n     <use xlink:href=\"#DejaVuSans-64\" x=\"550.972656\"/>\n     <use xlink:href=\"#DejaVuSans-20\" x=\"614.449219\"/>\n     <use xlink:href=\"#DejaVuSans-56\" x=\"646.236328\"/>\n     <use xlink:href=\"#DejaVuSans-61\" x=\"706.894531\"/>\n     <use xlink:href=\"#DejaVuSans-6c\" x=\"768.173828\"/>\n     <use xlink:href=\"#DejaVuSans-69\" x=\"795.957031\"/>\n     <use xlink:href=\"#DejaVuSans-64\" x=\"823.740234\"/>\n     <use xlink:href=\"#DejaVuSans-61\" x=\"887.216797\"/>\n     <use xlink:href=\"#DejaVuSans-74\" x=\"948.496094\"/>\n     <use xlink:href=\"#DejaVuSans-69\" x=\"987.705078\"/>\n     <use xlink:href=\"#DejaVuSans-6f\" x=\"1015.488281\"/>\n     <use xlink:href=\"#DejaVuSans-6e\" x=\"1076.669922\"/>\n     <use xlink:href=\"#DejaVuSans-20\" x=\"1140.048828\"/>\n     <use xlink:href=\"#DejaVuSans-6c\" x=\"1171.835938\"/>\n     <use xlink:href=\"#DejaVuSans-6f\" x=\"1199.619141\"/>\n     <use xlink:href=\"#DejaVuSans-73\" x=\"1260.800781\"/>\n     <use xlink:href=\"#DejaVuSans-73\" x=\"1312.900391\"/>\n    </g>\n   </g>\n   <g id=\"legend_1\">\n    <g id=\"patch_7\">\n     <path d=\"M 296.38875 59.674375 \nL 400.26375 59.674375 \nQ 402.26375 59.674375 402.26375 57.674375 \nL 402.26375 29.318125 \nQ 402.26375 27.318125 400.26375 27.318125 \nL 296.38875 27.318125 \nQ 294.38875 27.318125 294.38875 29.318125 \nL 294.38875 57.674375 \nQ 294.38875 59.674375 296.38875 59.674375 \nz\n\" style=\"fill: #ffffff; opacity: 0.8; stroke: #cccccc; stroke-linejoin: miter\"/>\n    </g>\n    <g id=\"line2d_16\">\n     <path d=\"M 298.38875 35.416562 \nL 308.38875 35.416562 \nL 318.38875 35.416562 \n\" style=\"fill: none; stroke: #0000ff; stroke-width: 1.5; stroke-linecap: square\"/>\n    </g>\n    <g id=\"text_17\">\n     <!-- Training loss -->\n     <g transform=\"translate(326.38875 38.916562)scale(0.1 -0.1)\">\n      <use xlink:href=\"#DejaVuSans-54\"/>\n      <use xlink:href=\"#DejaVuSans-72\" x=\"46.333984\"/>\n      <use xlink:href=\"#DejaVuSans-61\" x=\"87.447266\"/>\n      <use xlink:href=\"#DejaVuSans-69\" x=\"148.726562\"/>\n      <use xlink:href=\"#DejaVuSans-6e\" x=\"176.509766\"/>\n      <use xlink:href=\"#DejaVuSans-69\" x=\"239.888672\"/>\n      <use xlink:href=\"#DejaVuSans-6e\" x=\"267.671875\"/>\n      <use xlink:href=\"#DejaVuSans-67\" x=\"331.050781\"/>\n      <use xlink:href=\"#DejaVuSans-20\" x=\"394.527344\"/>\n      <use xlink:href=\"#DejaVuSans-6c\" x=\"426.314453\"/>\n      <use xlink:href=\"#DejaVuSans-6f\" x=\"454.097656\"/>\n      <use xlink:href=\"#DejaVuSans-73\" x=\"515.279297\"/>\n      <use xlink:href=\"#DejaVuSans-73\" x=\"567.378906\"/>\n     </g>\n    </g>\n    <g id=\"line2d_17\">\n     <path d=\"M 298.38875 50.094687 \nL 308.38875 50.094687 \nL 318.38875 50.094687 \n\" style=\"fill: none; stroke: #ff0000; stroke-width: 1.5; stroke-linecap: square\"/>\n    </g>\n    <g id=\"text_18\">\n     <!-- Validation loss -->\n     <g transform=\"translate(326.38875 53.594687)scale(0.1 -0.1)\">\n      <use xlink:href=\"#DejaVuSans-56\"/>\n      <use xlink:href=\"#DejaVuSans-61\" x=\"60.658203\"/>\n      <use xlink:href=\"#DejaVuSans-6c\" x=\"121.9375\"/>\n      <use xlink:href=\"#DejaVuSans-69\" x=\"149.720703\"/>\n      <use xlink:href=\"#DejaVuSans-64\" x=\"177.503906\"/>\n      <use xlink:href=\"#DejaVuSans-61\" x=\"240.980469\"/>\n      <use xlink:href=\"#DejaVuSans-74\" x=\"302.259766\"/>\n      <use xlink:href=\"#DejaVuSans-69\" x=\"341.46875\"/>\n      <use xlink:href=\"#DejaVuSans-6f\" x=\"369.251953\"/>\n      <use xlink:href=\"#DejaVuSans-6e\" x=\"430.433594\"/>\n      <use xlink:href=\"#DejaVuSans-20\" x=\"493.8125\"/>\n      <use xlink:href=\"#DejaVuSans-6c\" x=\"525.599609\"/>\n      <use xlink:href=\"#DejaVuSans-6f\" x=\"553.382812\"/>\n      <use xlink:href=\"#DejaVuSans-73\" x=\"614.564453\"/>\n      <use xlink:href=\"#DejaVuSans-73\" x=\"666.664062\"/>\n     </g>\n    </g>\n   </g>\n  </g>\n </g>\n <defs>\n  <clipPath id=\"pb68d2ba5e6\">\n   <rect x=\"50.14375\" y=\"22.318125\" width=\"357.12\" height=\"266.112\"/>\n  </clipPath>\n </defs>\n</svg>\n",
      "text/plain": [
       "<Figure size 640x480 with 1 Axes>"
      ]
     },
     "metadata": {},
     "output_type": "display_data"
    }
   ],
   "source": [
    "# epochs = range(num_epochs) # TODO: tmp\n",
    "epochs = range(num_epochs - 10)\n",
    "plt.plot(epochs, train_loss_hist, 'b', label='Training loss')\n",
    "plt.plot(epochs, val_loss_hist, 'r', label='Validation loss')\n",
    "plt.title('Training and Validation loss')\n",
    "plt.xlabel('Epochs')\n",
    "plt.ylabel('Loss')\n",
    "plt.legend()\n",
    "plt.show()"
   ]
  },
  {
   "cell_type": "code",
   "execution_count": 16,
   "metadata": {},
   "outputs": [
    {
     "data": {
      "image/png": "[encoded data removed]",
      "image/svg+xml": "<?xml version=\"1.0\" encoding=\"utf-8\" standalone=\"no\"?>\n<!DOCTYPE svg PUBLIC \"-//W3C//DTD SVG 1.1//EN\"\n  \"http://www.w3.org/Graphics/SVG/1.1/DTD/svg11.dtd\">\n<svg xmlns:xlink=\"http://www.w3.org/1999/xlink\" width=\"408.10125pt\" height=\"325.986375pt\" viewBox=\"0 0 408.10125 325.986375\" xmlns=\"http://www.w3.org/2000/svg\" version=\"1.1\">\n <metadata>\n  <rdf:RDF xmlns:dc=\"http://purl.org/dc/elements/1.1/\" xmlns:cc=\"http://creativecommons.org/ns#\" xmlns:rdf=\"http://www.w3.org/1999/02/22-rdf-syntax-ns#\">\n   <cc:Work>\n    <dc:type rdf:resource=\"http://purl.org/dc/dcmitype/StillImage\"/>\n    <dc:date>2022-11-10T17:46:43.036513</dc:date>\n    <dc:format>image/svg+xml</dc:format>\n    <dc:creator>\n     <cc:Agent>\n      <dc:title>Matplotlib v3.5.3, https://matplotlib.org/</dc:title>\n     </cc:Agent>\n    </dc:creator>\n   </cc:Work>\n  </rdf:RDF>\n </metadata>\n <defs>\n  <style type=\"text/css\">*{stroke-linejoin: round; stroke-linecap: butt}</style>\n </defs>\n <g id=\"figure_1\">\n  <g id=\"patch_1\">\n   <path d=\"M 0 325.986375 \nL 408.10125 325.986375 \nL 408.10125 0 \nL 0 0 \nz\n\" style=\"fill: #ffffff\"/>\n  </g>\n  <g id=\"axes_1\">\n   <g id=\"patch_2\">\n    <path d=\"M 43.78125 288.430125 \nL 400.90125 288.430125 \nL 400.90125 22.318125 \nL 43.78125 22.318125 \nz\n\" style=\"fill: #ffffff\"/>\n   </g>\n   <g id=\"matplotlib.axis_1\">\n    <g id=\"xtick_1\">\n     <g id=\"line2d_1\">\n      <defs>\n       <path id=\"m786d696186\" d=\"M 0 0 \nL 0 3.5 \n\" style=\"stroke: #000000; stroke-width: 0.8\"/>\n      </defs>\n      <g>\n       <use xlink:href=\"#m786d696186\" x=\"60.013977\" y=\"288.430125\" style=\"stroke: #000000; stroke-width: 0.8\"/>\n      </g>\n     </g>\n     <g id=\"text_1\">\n      <!-- 0 -->\n      <g transform=\"translate(56.832727 303.028562)scale(0.1 -0.1)\">\n       <defs>\n        <path id=\"DejaVuSans-30\" d=\"M 2034 4250 \nQ 1547 4250 1301 3770 \nQ 1056 3291 1056 2328 \nQ 1056 1369 1301 889 \nQ 1547 409 2034 409 \nQ 2525 409 2770 889 \nQ 3016 1369 3016 2328 \nQ 3016 3291 2770 3770 \nQ 2525 4250 2034 4250 \nz\nM 2034 4750 \nQ 2819 4750 3233 4129 \nQ 3647 3509 3647 2328 \nQ 3647 1150 3233 529 \nQ 2819 -91 2034 -91 \nQ 1250 -91 836 529 \nQ 422 1150 422 2328 \nQ 422 3509 836 4129 \nQ 1250 4750 2034 4750 \nz\n\" transform=\"scale(0.015625)\"/>\n       </defs>\n       <use xlink:href=\"#DejaVuSans-30\"/>\n      </g>\n     </g>\n    </g>\n    <g id=\"xtick_2\">\n     <g id=\"line2d_2\">\n      <g>\n       <use xlink:href=\"#m786d696186\" x=\"101.636355\" y=\"288.430125\" style=\"stroke: #000000; stroke-width: 0.8\"/>\n      </g>\n     </g>\n     <g id=\"text_2\">\n      <!-- 5 -->\n      <g transform=\"translate(98.455105 303.028562)scale(0.1 -0.1)\">\n       <defs>\n        <path id=\"DejaVuSans-35\" d=\"M 691 4666 \nL 3169 4666 \nL 3169 4134 \nL 1269 4134 \nL 1269 2991 \nQ 1406 3038 1543 3061 \nQ 1681 3084 1819 3084 \nQ 2600 3084 3056 2656 \nQ 3513 2228 3513 1497 \nQ 3513 744 3044 326 \nQ 2575 -91 1722 -91 \nQ 1428 -91 1123 -41 \nQ 819 9 494 109 \nL 494 744 \nQ 775 591 1075 516 \nQ 1375 441 1709 441 \nQ 2250 441 2565 725 \nQ 2881 1009 2881 1497 \nQ 2881 1984 2565 2268 \nQ 2250 2553 1709 2553 \nQ 1456 2553 1204 2497 \nQ 953 2441 691 2322 \nL 691 4666 \nz\n\" transform=\"scale(0.015625)\"/>\n       </defs>\n       <use xlink:href=\"#DejaVuSans-35\"/>\n      </g>\n     </g>\n    </g>\n    <g id=\"xtick_3\">\n     <g id=\"line2d_3\">\n      <g>\n       <use xlink:href=\"#m786d696186\" x=\"143.258733\" y=\"288.430125\" style=\"stroke: #000000; stroke-width: 0.8\"/>\n      </g>\n     </g>\n     <g id=\"text_3\">\n      <!-- 10 -->\n      <g transform=\"translate(136.896233 303.028562)scale(0.1 -0.1)\">\n       <defs>\n        <path id=\"DejaVuSans-31\" d=\"M 794 531 \nL 1825 531 \nL 1825 4091 \nL 703 3866 \nL 703 4441 \nL 1819 4666 \nL 2450 4666 \nL 2450 531 \nL 3481 531 \nL 3481 0 \nL 794 0 \nL 794 531 \nz\n\" transform=\"scale(0.015625)\"/>\n       </defs>\n       <use xlink:href=\"#DejaVuSans-31\"/>\n       <use xlink:href=\"#DejaVuSans-30\" x=\"63.623047\"/>\n      </g>\n     </g>\n    </g>\n    <g id=\"xtick_4\">\n     <g id=\"line2d_4\">\n      <g>\n       <use xlink:href=\"#m786d696186\" x=\"184.88111\" y=\"288.430125\" style=\"stroke: #000000; stroke-width: 0.8\"/>\n      </g>\n     </g>\n     <g id=\"text_4\">\n      <!-- 15 -->\n      <g transform=\"translate(178.51861 303.028562)scale(0.1 -0.1)\">\n       <use xlink:href=\"#DejaVuSans-31\"/>\n       <use xlink:href=\"#DejaVuSans-35\" x=\"63.623047\"/>\n      </g>\n     </g>\n    </g>\n    <g id=\"xtick_5\">\n     <g id=\"line2d_5\">\n      <g>\n       <use xlink:href=\"#m786d696186\" x=\"226.503488\" y=\"288.430125\" style=\"stroke: #000000; stroke-width: 0.8\"/>\n      </g>\n     </g>\n     <g id=\"text_5\">\n      <!-- 20 -->\n      <g transform=\"translate(220.140988 303.028562)scale(0.1 -0.1)\">\n       <defs>\n        <path id=\"DejaVuSans-32\" d=\"M 1228 531 \nL 3431 531 \nL 3431 0 \nL 469 0 \nL 469 531 \nQ 828 903 1448 1529 \nQ 2069 2156 2228 2338 \nQ 2531 2678 2651 2914 \nQ 2772 3150 2772 3378 \nQ 2772 3750 2511 3984 \nQ 2250 4219 1831 4219 \nQ 1534 4219 1204 4116 \nQ 875 4013 500 3803 \nL 500 4441 \nQ 881 4594 1212 4672 \nQ 1544 4750 1819 4750 \nQ 2544 4750 2975 4387 \nQ 3406 4025 3406 3419 \nQ 3406 3131 3298 2873 \nQ 3191 2616 2906 2266 \nQ 2828 2175 2409 1742 \nQ 1991 1309 1228 531 \nz\n\" transform=\"scale(0.015625)\"/>\n       </defs>\n       <use xlink:href=\"#DejaVuSans-32\"/>\n       <use xlink:href=\"#DejaVuSans-30\" x=\"63.623047\"/>\n      </g>\n     </g>\n    </g>\n    <g id=\"xtick_6\">\n     <g id=\"line2d_6\">\n      <g>\n       <use xlink:href=\"#m786d696186\" x=\"268.125865\" y=\"288.430125\" style=\"stroke: #000000; stroke-width: 0.8\"/>\n      </g>\n     </g>\n     <g id=\"text_6\">\n      <!-- 25 -->\n      <g transform=\"translate(261.763365 303.028562)scale(0.1 -0.1)\">\n       <use xlink:href=\"#DejaVuSans-32\"/>\n       <use xlink:href=\"#DejaVuSans-35\" x=\"63.623047\"/>\n      </g>\n     </g>\n    </g>\n    <g id=\"xtick_7\">\n     <g id=\"line2d_7\">\n      <g>\n       <use xlink:href=\"#m786d696186\" x=\"309.748243\" y=\"288.430125\" style=\"stroke: #000000; stroke-width: 0.8\"/>\n      </g>\n     </g>\n     <g id=\"text_7\">\n      <!-- 30 -->\n      <g transform=\"translate(303.385743 303.028562)scale(0.1 -0.1)\">\n       <defs>\n        <path id=\"DejaVuSans-33\" d=\"M 2597 2516 \nQ 3050 2419 3304 2112 \nQ 3559 1806 3559 1356 \nQ 3559 666 3084 287 \nQ 2609 -91 1734 -91 \nQ 1441 -91 1130 -33 \nQ 819 25 488 141 \nL 488 750 \nQ 750 597 1062 519 \nQ 1375 441 1716 441 \nQ 2309 441 2620 675 \nQ 2931 909 2931 1356 \nQ 2931 1769 2642 2001 \nQ 2353 2234 1838 2234 \nL 1294 2234 \nL 1294 2753 \nL 1863 2753 \nQ 2328 2753 2575 2939 \nQ 2822 3125 2822 3475 \nQ 2822 3834 2567 4026 \nQ 2313 4219 1838 4219 \nQ 1578 4219 1281 4162 \nQ 984 4106 628 3988 \nL 628 4550 \nQ 988 4650 1302 4700 \nQ 1616 4750 1894 4750 \nQ 2613 4750 3031 4423 \nQ 3450 4097 3450 3541 \nQ 3450 3153 3228 2886 \nQ 3006 2619 2597 2516 \nz\n\" transform=\"scale(0.015625)\"/>\n       </defs>\n       <use xlink:href=\"#DejaVuSans-33\"/>\n       <use xlink:href=\"#DejaVuSans-30\" x=\"63.623047\"/>\n      </g>\n     </g>\n    </g>\n    <g id=\"xtick_8\">\n     <g id=\"line2d_8\">\n      <g>\n       <use xlink:href=\"#m786d696186\" x=\"351.370621\" y=\"288.430125\" style=\"stroke: #000000; stroke-width: 0.8\"/>\n      </g>\n     </g>\n     <g id=\"text_8\">\n      <!-- 35 -->\n      <g transform=\"translate(345.008121 303.028562)scale(0.1 -0.1)\">\n       <use xlink:href=\"#DejaVuSans-33\"/>\n       <use xlink:href=\"#DejaVuSans-35\" x=\"63.623047\"/>\n      </g>\n     </g>\n    </g>\n    <g id=\"xtick_9\">\n     <g id=\"line2d_9\">\n      <g>\n       <use xlink:href=\"#m786d696186\" x=\"392.992998\" y=\"288.430125\" style=\"stroke: #000000; stroke-width: 0.8\"/>\n      </g>\n     </g>\n     <g id=\"text_9\">\n      <!-- 40 -->\n      <g transform=\"translate(386.630498 303.028562)scale(0.1 -0.1)\">\n       <defs>\n        <path id=\"DejaVuSans-34\" d=\"M 2419 4116 \nL 825 1625 \nL 2419 1625 \nL 2419 4116 \nz\nM 2253 4666 \nL 3047 4666 \nL 3047 1625 \nL 3713 1625 \nL 3713 1100 \nL 3047 1100 \nL 3047 0 \nL 2419 0 \nL 2419 1100 \nL 313 1100 \nL 313 1709 \nL 2253 4666 \nz\n\" transform=\"scale(0.015625)\"/>\n       </defs>\n       <use xlink:href=\"#DejaVuSans-34\"/>\n       <use xlink:href=\"#DejaVuSans-30\" x=\"63.623047\"/>\n      </g>\n     </g>\n    </g>\n    <g id=\"text_10\">\n     <!-- Epochs -->\n     <g transform=\"translate(204.425625 316.706687)scale(0.1 -0.1)\">\n      <defs>\n       <path id=\"DejaVuSans-45\" d=\"M 628 4666 \nL 3578 4666 \nL 3578 4134 \nL 1259 4134 \nL 1259 2753 \nL 3481 2753 \nL 3481 2222 \nL 1259 2222 \nL 1259 531 \nL 3634 531 \nL 3634 0 \nL 628 0 \nL 628 4666 \nz\n\" transform=\"scale(0.015625)\"/>\n       <path id=\"DejaVuSans-70\" d=\"M 1159 525 \nL 1159 -1331 \nL 581 -1331 \nL 581 3500 \nL 1159 3500 \nL 1159 2969 \nQ 1341 3281 1617 3432 \nQ 1894 3584 2278 3584 \nQ 2916 3584 3314 3078 \nQ 3713 2572 3713 1747 \nQ 3713 922 3314 415 \nQ 2916 -91 2278 -91 \nQ 1894 -91 1617 61 \nQ 1341 213 1159 525 \nz\nM 3116 1747 \nQ 3116 2381 2855 2742 \nQ 2594 3103 2138 3103 \nQ 1681 3103 1420 2742 \nQ 1159 2381 1159 1747 \nQ 1159 1113 1420 752 \nQ 1681 391 2138 391 \nQ 2594 391 2855 752 \nQ 3116 1113 3116 1747 \nz\n\" transform=\"scale(0.015625)\"/>\n       <path id=\"DejaVuSans-6f\" d=\"M 1959 3097 \nQ 1497 3097 1228 2736 \nQ 959 2375 959 1747 \nQ 959 1119 1226 758 \nQ 1494 397 1959 397 \nQ 2419 397 2687 759 \nQ 2956 1122 2956 1747 \nQ 2956 2369 2687 2733 \nQ 2419 3097 1959 3097 \nz\nM 1959 3584 \nQ 2709 3584 3137 3096 \nQ 3566 2609 3566 1747 \nQ 3566 888 3137 398 \nQ 2709 -91 1959 -91 \nQ 1206 -91 779 398 \nQ 353 888 353 1747 \nQ 353 2609 779 3096 \nQ 1206 3584 1959 3584 \nz\n\" transform=\"scale(0.015625)\"/>\n       <path id=\"DejaVuSans-63\" d=\"M 3122 3366 \nL 3122 2828 \nQ 2878 2963 2633 3030 \nQ 2388 3097 2138 3097 \nQ 1578 3097 1268 2742 \nQ 959 2388 959 1747 \nQ 959 1106 1268 751 \nQ 1578 397 2138 397 \nQ 2388 397 2633 464 \nQ 2878 531 3122 666 \nL 3122 134 \nQ 2881 22 2623 -34 \nQ 2366 -91 2075 -91 \nQ 1284 -91 818 406 \nQ 353 903 353 1747 \nQ 353 2603 823 3093 \nQ 1294 3584 2113 3584 \nQ 2378 3584 2631 3529 \nQ 2884 3475 3122 3366 \nz\n\" transform=\"scale(0.015625)\"/>\n       <path id=\"DejaVuSans-68\" d=\"M 3513 2113 \nL 3513 0 \nL 2938 0 \nL 2938 2094 \nQ 2938 2591 2744 2837 \nQ 2550 3084 2163 3084 \nQ 1697 3084 1428 2787 \nQ 1159 2491 1159 1978 \nL 1159 0 \nL 581 0 \nL 581 4863 \nL 1159 4863 \nL 1159 2956 \nQ 1366 3272 1645 3428 \nQ 1925 3584 2291 3584 \nQ 2894 3584 3203 3211 \nQ 3513 2838 3513 2113 \nz\n\" transform=\"scale(0.015625)\"/>\n       <path id=\"DejaVuSans-73\" d=\"M 2834 3397 \nL 2834 2853 \nQ 2591 2978 2328 3040 \nQ 2066 3103 1784 3103 \nQ 1356 3103 1142 2972 \nQ 928 2841 928 2578 \nQ 928 2378 1081 2264 \nQ 1234 2150 1697 2047 \nL 1894 2003 \nQ 2506 1872 2764 1633 \nQ 3022 1394 3022 966 \nQ 3022 478 2636 193 \nQ 2250 -91 1575 -91 \nQ 1294 -91 989 -36 \nQ 684 19 347 128 \nL 347 722 \nQ 666 556 975 473 \nQ 1284 391 1588 391 \nQ 1994 391 2212 530 \nQ 2431 669 2431 922 \nQ 2431 1156 2273 1281 \nQ 2116 1406 1581 1522 \nL 1381 1569 \nQ 847 1681 609 1914 \nQ 372 2147 372 2553 \nQ 372 3047 722 3315 \nQ 1072 3584 1716 3584 \nQ 2034 3584 2315 3537 \nQ 2597 3491 2834 3397 \nz\n\" transform=\"scale(0.015625)\"/>\n      </defs>\n      <use xlink:href=\"#DejaVuSans-45\"/>\n      <use xlink:href=\"#DejaVuSans-70\" x=\"63.183594\"/>\n      <use xlink:href=\"#DejaVuSans-6f\" x=\"126.660156\"/>\n      <use xlink:href=\"#DejaVuSans-63\" x=\"187.841797\"/>\n      <use xlink:href=\"#DejaVuSans-68\" x=\"242.822266\"/>\n      <use xlink:href=\"#DejaVuSans-73\" x=\"306.201172\"/>\n     </g>\n    </g>\n   </g>\n   <g id=\"matplotlib.axis_2\">\n    <g id=\"ytick_1\">\n     <g id=\"line2d_10\">\n      <defs>\n       <path id=\"m65124c7217\" d=\"M 0 0 \nL -3.5 0 \n\" style=\"stroke: #000000; stroke-width: 0.8\"/>\n      </defs>\n      <g>\n       <use xlink:href=\"#m65124c7217\" x=\"43.78125\" y=\"278.207884\" style=\"stroke: #000000; stroke-width: 0.8\"/>\n      </g>\n     </g>\n     <g id=\"text_11\">\n      <!-- 0.5 -->\n      <g transform=\"translate(20.878125 282.007103)scale(0.1 -0.1)\">\n       <defs>\n        <path id=\"DejaVuSans-2e\" d=\"M 684 794 \nL 1344 794 \nL 1344 0 \nL 684 0 \nL 684 794 \nz\n\" transform=\"scale(0.015625)\"/>\n       </defs>\n       <use xlink:href=\"#DejaVuSans-30\"/>\n       <use xlink:href=\"#DejaVuSans-2e\" x=\"63.623047\"/>\n       <use xlink:href=\"#DejaVuSans-35\" x=\"95.410156\"/>\n      </g>\n     </g>\n    </g>\n    <g id=\"ytick_2\">\n     <g id=\"line2d_11\">\n      <g>\n       <use xlink:href=\"#m65124c7217\" x=\"43.78125\" y=\"220.617171\" style=\"stroke: #000000; stroke-width: 0.8\"/>\n      </g>\n     </g>\n     <g id=\"text_12\">\n      <!-- 0.6 -->\n      <g transform=\"translate(20.878125 224.41639)scale(0.1 -0.1)\">\n       <defs>\n        <path id=\"DejaVuSans-36\" d=\"M 2113 2584 \nQ 1688 2584 1439 2293 \nQ 1191 2003 1191 1497 \nQ 1191 994 1439 701 \nQ 1688 409 2113 409 \nQ 2538 409 2786 701 \nQ 3034 994 3034 1497 \nQ 3034 2003 2786 2293 \nQ 2538 2584 2113 2584 \nz\nM 3366 4563 \nL 3366 3988 \nQ 3128 4100 2886 4159 \nQ 2644 4219 2406 4219 \nQ 1781 4219 1451 3797 \nQ 1122 3375 1075 2522 \nQ 1259 2794 1537 2939 \nQ 1816 3084 2150 3084 \nQ 2853 3084 3261 2657 \nQ 3669 2231 3669 1497 \nQ 3669 778 3244 343 \nQ 2819 -91 2113 -91 \nQ 1303 -91 875 529 \nQ 447 1150 447 2328 \nQ 447 3434 972 4092 \nQ 1497 4750 2381 4750 \nQ 2619 4750 2861 4703 \nQ 3103 4656 3366 4563 \nz\n\" transform=\"scale(0.015625)\"/>\n       </defs>\n       <use xlink:href=\"#DejaVuSans-30\"/>\n       <use xlink:href=\"#DejaVuSans-2e\" x=\"63.623047\"/>\n       <use xlink:href=\"#DejaVuSans-36\" x=\"95.410156\"/>\n      </g>\n     </g>\n    </g>\n    <g id=\"ytick_3\">\n     <g id=\"line2d_12\">\n      <g>\n       <use xlink:href=\"#m65124c7217\" x=\"43.78125\" y=\"163.026458\" style=\"stroke: #000000; stroke-width: 0.8\"/>\n      </g>\n     </g>\n     <g id=\"text_13\">\n      <!-- 0.7 -->\n      <g transform=\"translate(20.878125 166.825677)scale(0.1 -0.1)\">\n       <defs>\n        <path id=\"DejaVuSans-37\" d=\"M 525 4666 \nL 3525 4666 \nL 3525 4397 \nL 1831 0 \nL 1172 0 \nL 2766 4134 \nL 525 4134 \nL 525 4666 \nz\n\" transform=\"scale(0.015625)\"/>\n       </defs>\n       <use xlink:href=\"#DejaVuSans-30\"/>\n       <use xlink:href=\"#DejaVuSans-2e\" x=\"63.623047\"/>\n       <use xlink:href=\"#DejaVuSans-37\" x=\"95.410156\"/>\n      </g>\n     </g>\n    </g>\n    <g id=\"ytick_4\">\n     <g id=\"line2d_13\">\n      <g>\n       <use xlink:href=\"#m65124c7217\" x=\"43.78125\" y=\"105.435745\" style=\"stroke: #000000; stroke-width: 0.8\"/>\n      </g>\n     </g>\n     <g id=\"text_14\">\n      <!-- 0.8 -->\n      <g transform=\"translate(20.878125 109.234964)scale(0.1 -0.1)\">\n       <defs>\n        <path id=\"DejaVuSans-38\" d=\"M 2034 2216 \nQ 1584 2216 1326 1975 \nQ 1069 1734 1069 1313 \nQ 1069 891 1326 650 \nQ 1584 409 2034 409 \nQ 2484 409 2743 651 \nQ 3003 894 3003 1313 \nQ 3003 1734 2745 1975 \nQ 2488 2216 2034 2216 \nz\nM 1403 2484 \nQ 997 2584 770 2862 \nQ 544 3141 544 3541 \nQ 544 4100 942 4425 \nQ 1341 4750 2034 4750 \nQ 2731 4750 3128 4425 \nQ 3525 4100 3525 3541 \nQ 3525 3141 3298 2862 \nQ 3072 2584 2669 2484 \nQ 3125 2378 3379 2068 \nQ 3634 1759 3634 1313 \nQ 3634 634 3220 271 \nQ 2806 -91 2034 -91 \nQ 1263 -91 848 271 \nQ 434 634 434 1313 \nQ 434 1759 690 2068 \nQ 947 2378 1403 2484 \nz\nM 1172 3481 \nQ 1172 3119 1398 2916 \nQ 1625 2713 2034 2713 \nQ 2441 2713 2670 2916 \nQ 2900 3119 2900 3481 \nQ 2900 3844 2670 4047 \nQ 2441 4250 2034 4250 \nQ 1625 4250 1398 4047 \nQ 1172 3844 1172 3481 \nz\n\" transform=\"scale(0.015625)\"/>\n       </defs>\n       <use xlink:href=\"#DejaVuSans-30\"/>\n       <use xlink:href=\"#DejaVuSans-2e\" x=\"63.623047\"/>\n       <use xlink:href=\"#DejaVuSans-38\" x=\"95.410156\"/>\n      </g>\n     </g>\n    </g>\n    <g id=\"ytick_5\">\n     <g id=\"line2d_14\">\n      <g>\n       <use xlink:href=\"#m65124c7217\" x=\"43.78125\" y=\"47.845032\" style=\"stroke: #000000; stroke-width: 0.8\"/>\n      </g>\n     </g>\n     <g id=\"text_15\">\n      <!-- 0.9 -->\n      <g transform=\"translate(20.878125 51.644251)scale(0.1 -0.1)\">\n       <defs>\n        <path id=\"DejaVuSans-39\" d=\"M 703 97 \nL 703 672 \nQ 941 559 1184 500 \nQ 1428 441 1663 441 \nQ 2288 441 2617 861 \nQ 2947 1281 2994 2138 \nQ 2813 1869 2534 1725 \nQ 2256 1581 1919 1581 \nQ 1219 1581 811 2004 \nQ 403 2428 403 3163 \nQ 403 3881 828 4315 \nQ 1253 4750 1959 4750 \nQ 2769 4750 3195 4129 \nQ 3622 3509 3622 2328 \nQ 3622 1225 3098 567 \nQ 2575 -91 1691 -91 \nQ 1453 -91 1209 -44 \nQ 966 3 703 97 \nz\nM 1959 2075 \nQ 2384 2075 2632 2365 \nQ 2881 2656 2881 3163 \nQ 2881 3666 2632 3958 \nQ 2384 4250 1959 4250 \nQ 1534 4250 1286 3958 \nQ 1038 3666 1038 3163 \nQ 1038 2656 1286 2365 \nQ 1534 2075 1959 2075 \nz\n\" transform=\"scale(0.015625)\"/>\n       </defs>\n       <use xlink:href=\"#DejaVuSans-30\"/>\n       <use xlink:href=\"#DejaVuSans-2e\" x=\"63.623047\"/>\n       <use xlink:href=\"#DejaVuSans-39\" x=\"95.410156\"/>\n      </g>\n     </g>\n    </g>\n    <g id=\"text_16\">\n     <!-- Loss -->\n     <g transform=\"translate(14.798438 166.341312)rotate(-90)scale(0.1 -0.1)\">\n      <defs>\n       <path id=\"DejaVuSans-4c\" d=\"M 628 4666 \nL 1259 4666 \nL 1259 531 \nL 3531 531 \nL 3531 0 \nL 628 0 \nL 628 4666 \nz\n\" transform=\"scale(0.015625)\"/>\n      </defs>\n      <use xlink:href=\"#DejaVuSans-4c\"/>\n      <use xlink:href=\"#DejaVuSans-6f\" x=\"53.962891\"/>\n      <use xlink:href=\"#DejaVuSans-73\" x=\"115.144531\"/>\n      <use xlink:href=\"#DejaVuSans-73\" x=\"167.244141\"/>\n     </g>\n    </g>\n   </g>\n   <g id=\"line2d_15\">\n    <path d=\"M 60.013977 253.23627 \nL 68.338453 253.473092 \nL 76.662928 261.378452 \nL 84.987404 261.724288 \nL 93.311879 215.275132 \nL 101.636355 131.062191 \nL 109.96083 191.356064 \nL 118.285306 70.302193 \nL 126.609781 58.741121 \nL 134.934257 50.095222 \nL 143.258733 58.594517 \nL 151.583208 55.092927 \nL 159.907684 71.535173 \nL 168.232159 81.600126 \nL 176.556635 81.632079 \nL 184.88111 81.54938 \nL 193.205586 81.536224 \nL 201.530061 81.562537 \nL 209.854537 81.530584 \nL 218.179012 81.472318 \nL 226.503488 81.472318 \nL 234.827963 81.472319 \nL 243.152439 81.498632 \nL 251.476914 81.459162 \nL 259.80139 81.453523 \nL 268.125865 81.299401 \nL 276.450341 81.288124 \nL 284.774816 81.26181 \nL 293.099292 81.248653 \nL 301.423767 81.288123 \nL 309.748243 81.184748 \nL 318.072719 81.171592 \nL 326.397194 81.120844 \nL 334.72167 81.184748 \nL 343.046145 81.152796 \nL 351.370621 81.197905 \nL 359.695096 81.158435 \nL 368.019572 81.165953 \nL 376.344047 81.134001 \nL 384.668523 81.102048 \n\" clip-path=\"url(#p52407adf3c)\" style=\"fill: none; stroke: #0000ff; stroke-width: 1.5; stroke-linecap: square\"/>\n   </g>\n   <g id=\"line2d_16\">\n    <path d=\"M 60.013977 225.105482 \nL 68.338453 250.549491 \nL 76.662928 276.185078 \nL 84.987404 276.334125 \nL 93.311879 45.187916 \nL 101.636355 72.888634 \nL 109.96083 74.826172 \nL 118.285306 109.319431 \nL 126.609781 34.414125 \nL 134.934257 60.347565 \nL 143.258733 56.791898 \nL 151.583208 55.982989 \nL 159.907684 82.76835 \nL 168.232159 82.44894 \nL 176.556635 82.448734 \nL 184.88111 82.491402 \nL 193.205586 82.406237 \nL 201.530061 82.491505 \nL 209.854537 82.214557 \nL 218.179012 82.235908 \nL 226.503488 82.235805 \nL 234.827963 82.257259 \nL 243.152439 82.321176 \nL 251.476914 82.214625 \nL 259.80139 82.214728 \nL 268.125865 82.257293 \nL 276.450341 82.299824 \nL 284.774816 82.257191 \nL 293.099292 82.320935 \nL 301.423767 82.257191 \nL 309.748243 82.321176 \nL 318.072719 82.129632 \nL 326.397194 82.065647 \nL 334.72167 82.108247 \nL 343.046145 82.108281 \nL 351.370621 82.150881 \nL 359.695096 82.150743 \nL 368.019572 82.172163 \nL 376.344047 82.193343 \nL 384.668523 82.150743 \n\" clip-path=\"url(#p52407adf3c)\" style=\"fill: none; stroke: #ff0000; stroke-width: 1.5; stroke-linecap: square\"/>\n   </g>\n   <g id=\"patch_3\">\n    <path d=\"M 43.78125 288.430125 \nL 43.78125 22.318125 \n\" style=\"fill: none; stroke: #000000; stroke-width: 0.8; stroke-linejoin: miter; stroke-linecap: square\"/>\n   </g>\n   <g id=\"patch_4\">\n    <path d=\"M 400.90125 288.430125 \nL 400.90125 22.318125 \n\" style=\"fill: none; stroke: #000000; stroke-width: 0.8; stroke-linejoin: miter; stroke-linecap: square\"/>\n   </g>\n   <g id=\"patch_5\">\n    <path d=\"M 43.78125 288.430125 \nL 400.90125 288.430125 \n\" style=\"fill: none; stroke: #000000; stroke-width: 0.8; stroke-linejoin: miter; stroke-linecap: square\"/>\n   </g>\n   <g id=\"patch_6\">\n    <path d=\"M 43.78125 22.318125 \nL 400.90125 22.318125 \n\" style=\"fill: none; stroke: #000000; stroke-width: 0.8; stroke-linejoin: miter; stroke-linecap: square\"/>\n   </g>\n   <g id=\"text_17\">\n    <!-- Training and Validation accuracy -->\n    <g transform=\"translate(124.96125 16.318125)scale(0.12 -0.12)\">\n     <defs>\n      <path id=\"DejaVuSans-54\" d=\"M -19 4666 \nL 3928 4666 \nL 3928 4134 \nL 2272 4134 \nL 2272 0 \nL 1638 0 \nL 1638 4134 \nL -19 4134 \nL -19 4666 \nz\n\" transform=\"scale(0.015625)\"/>\n      <path id=\"DejaVuSans-72\" d=\"M 2631 2963 \nQ 2534 3019 2420 3045 \nQ 2306 3072 2169 3072 \nQ 1681 3072 1420 2755 \nQ 1159 2438 1159 1844 \nL 1159 0 \nL 581 0 \nL 581 3500 \nL 1159 3500 \nL 1159 2956 \nQ 1341 3275 1631 3429 \nQ 1922 3584 2338 3584 \nQ 2397 3584 2469 3576 \nQ 2541 3569 2628 3553 \nL 2631 2963 \nz\n\" transform=\"scale(0.015625)\"/>\n      <path id=\"DejaVuSans-61\" d=\"M 2194 1759 \nQ 1497 1759 1228 1600 \nQ 959 1441 959 1056 \nQ 959 750 1161 570 \nQ 1363 391 1709 391 \nQ 2188 391 2477 730 \nQ 2766 1069 2766 1631 \nL 2766 1759 \nL 2194 1759 \nz\nM 3341 1997 \nL 3341 0 \nL 2766 0 \nL 2766 531 \nQ 2569 213 2275 61 \nQ 1981 -91 1556 -91 \nQ 1019 -91 701 211 \nQ 384 513 384 1019 \nQ 384 1609 779 1909 \nQ 1175 2209 1959 2209 \nL 2766 2209 \nL 2766 2266 \nQ 2766 2663 2505 2880 \nQ 2244 3097 1772 3097 \nQ 1472 3097 1187 3025 \nQ 903 2953 641 2809 \nL 641 3341 \nQ 956 3463 1253 3523 \nQ 1550 3584 1831 3584 \nQ 2591 3584 2966 3190 \nQ 3341 2797 3341 1997 \nz\n\" transform=\"scale(0.015625)\"/>\n      <path id=\"DejaVuSans-69\" d=\"M 603 3500 \nL 1178 3500 \nL 1178 0 \nL 603 0 \nL 603 3500 \nz\nM 603 4863 \nL 1178 4863 \nL 1178 4134 \nL 603 4134 \nL 603 4863 \nz\n\" transform=\"scale(0.015625)\"/>\n      <path id=\"DejaVuSans-6e\" d=\"M 3513 2113 \nL 3513 0 \nL 2938 0 \nL 2938 2094 \nQ 2938 2591 2744 2837 \nQ 2550 3084 2163 3084 \nQ 1697 3084 1428 2787 \nQ 1159 2491 1159 1978 \nL 1159 0 \nL 581 0 \nL 581 3500 \nL 1159 3500 \nL 1159 2956 \nQ 1366 3272 1645 3428 \nQ 1925 3584 2291 3584 \nQ 2894 3584 3203 3211 \nQ 3513 2838 3513 2113 \nz\n\" transform=\"scale(0.015625)\"/>\n      <path id=\"DejaVuSans-67\" d=\"M 2906 1791 \nQ 2906 2416 2648 2759 \nQ 2391 3103 1925 3103 \nQ 1463 3103 1205 2759 \nQ 947 2416 947 1791 \nQ 947 1169 1205 825 \nQ 1463 481 1925 481 \nQ 2391 481 2648 825 \nQ 2906 1169 2906 1791 \nz\nM 3481 434 \nQ 3481 -459 3084 -895 \nQ 2688 -1331 1869 -1331 \nQ 1566 -1331 1297 -1286 \nQ 1028 -1241 775 -1147 \nL 775 -588 \nQ 1028 -725 1275 -790 \nQ 1522 -856 1778 -856 \nQ 2344 -856 2625 -561 \nQ 2906 -266 2906 331 \nL 2906 616 \nQ 2728 306 2450 153 \nQ 2172 0 1784 0 \nQ 1141 0 747 490 \nQ 353 981 353 1791 \nQ 353 2603 747 3093 \nQ 1141 3584 1784 3584 \nQ 2172 3584 2450 3431 \nQ 2728 3278 2906 2969 \nL 2906 3500 \nL 3481 3500 \nL 3481 434 \nz\n\" transform=\"scale(0.015625)\"/>\n      <path id=\"DejaVuSans-20\" transform=\"scale(0.015625)\"/>\n      <path id=\"DejaVuSans-64\" d=\"M 2906 2969 \nL 2906 4863 \nL 3481 4863 \nL 3481 0 \nL 2906 0 \nL 2906 525 \nQ 2725 213 2448 61 \nQ 2172 -91 1784 -91 \nQ 1150 -91 751 415 \nQ 353 922 353 1747 \nQ 353 2572 751 3078 \nQ 1150 3584 1784 3584 \nQ 2172 3584 2448 3432 \nQ 2725 3281 2906 2969 \nz\nM 947 1747 \nQ 947 1113 1208 752 \nQ 1469 391 1925 391 \nQ 2381 391 2643 752 \nQ 2906 1113 2906 1747 \nQ 2906 2381 2643 2742 \nQ 2381 3103 1925 3103 \nQ 1469 3103 1208 2742 \nQ 947 2381 947 1747 \nz\n\" transform=\"scale(0.015625)\"/>\n      <path id=\"DejaVuSans-56\" d=\"M 1831 0 \nL 50 4666 \nL 709 4666 \nL 2188 738 \nL 3669 4666 \nL 4325 4666 \nL 2547 0 \nL 1831 0 \nz\n\" transform=\"scale(0.015625)\"/>\n      <path id=\"DejaVuSans-6c\" d=\"M 603 4863 \nL 1178 4863 \nL 1178 0 \nL 603 0 \nL 603 4863 \nz\n\" transform=\"scale(0.015625)\"/>\n      <path id=\"DejaVuSans-74\" d=\"M 1172 4494 \nL 1172 3500 \nL 2356 3500 \nL 2356 3053 \nL 1172 3053 \nL 1172 1153 \nQ 1172 725 1289 603 \nQ 1406 481 1766 481 \nL 2356 481 \nL 2356 0 \nL 1766 0 \nQ 1100 0 847 248 \nQ 594 497 594 1153 \nL 594 3053 \nL 172 3053 \nL 172 3500 \nL 594 3500 \nL 594 4494 \nL 1172 4494 \nz\n\" transform=\"scale(0.015625)\"/>\n      <path id=\"DejaVuSans-75\" d=\"M 544 1381 \nL 544 3500 \nL 1119 3500 \nL 1119 1403 \nQ 1119 906 1312 657 \nQ 1506 409 1894 409 \nQ 2359 409 2629 706 \nQ 2900 1003 2900 1516 \nL 2900 3500 \nL 3475 3500 \nL 3475 0 \nL 2900 0 \nL 2900 538 \nQ 2691 219 2414 64 \nQ 2138 -91 1772 -91 \nQ 1169 -91 856 284 \nQ 544 659 544 1381 \nz\nM 1991 3584 \nL 1991 3584 \nz\n\" transform=\"scale(0.015625)\"/>\n      <path id=\"DejaVuSans-79\" d=\"M 2059 -325 \nQ 1816 -950 1584 -1140 \nQ 1353 -1331 966 -1331 \nL 506 -1331 \nL 506 -850 \nL 844 -850 \nQ 1081 -850 1212 -737 \nQ 1344 -625 1503 -206 \nL 1606 56 \nL 191 3500 \nL 800 3500 \nL 1894 763 \nL 2988 3500 \nL 3597 3500 \nL 2059 -325 \nz\n\" transform=\"scale(0.015625)\"/>\n     </defs>\n     <use xlink:href=\"#DejaVuSans-54\"/>\n     <use xlink:href=\"#DejaVuSans-72\" x=\"46.333984\"/>\n     <use xlink:href=\"#DejaVuSans-61\" x=\"87.447266\"/>\n     <use xlink:href=\"#DejaVuSans-69\" x=\"148.726562\"/>\n     <use xlink:href=\"#DejaVuSans-6e\" x=\"176.509766\"/>\n     <use xlink:href=\"#DejaVuSans-69\" x=\"239.888672\"/>\n     <use xlink:href=\"#DejaVuSans-6e\" x=\"267.671875\"/>\n     <use xlink:href=\"#DejaVuSans-67\" x=\"331.050781\"/>\n     <use xlink:href=\"#DejaVuSans-20\" x=\"394.527344\"/>\n     <use xlink:href=\"#DejaVuSans-61\" x=\"426.314453\"/>\n     <use xlink:href=\"#DejaVuSans-6e\" x=\"487.59375\"/>\n     <use xlink:href=\"#DejaVuSans-64\" x=\"550.972656\"/>\n     <use xlink:href=\"#DejaVuSans-20\" x=\"614.449219\"/>\n     <use xlink:href=\"#DejaVuSans-56\" x=\"646.236328\"/>\n     <use xlink:href=\"#DejaVuSans-61\" x=\"706.894531\"/>\n     <use xlink:href=\"#DejaVuSans-6c\" x=\"768.173828\"/>\n     <use xlink:href=\"#DejaVuSans-69\" x=\"795.957031\"/>\n     <use xlink:href=\"#DejaVuSans-64\" x=\"823.740234\"/>\n     <use xlink:href=\"#DejaVuSans-61\" x=\"887.216797\"/>\n     <use xlink:href=\"#DejaVuSans-74\" x=\"948.496094\"/>\n     <use xlink:href=\"#DejaVuSans-69\" x=\"987.705078\"/>\n     <use xlink:href=\"#DejaVuSans-6f\" x=\"1015.488281\"/>\n     <use xlink:href=\"#DejaVuSans-6e\" x=\"1076.669922\"/>\n     <use xlink:href=\"#DejaVuSans-20\" x=\"1140.048828\"/>\n     <use xlink:href=\"#DejaVuSans-61\" x=\"1171.835938\"/>\n     <use xlink:href=\"#DejaVuSans-63\" x=\"1233.115234\"/>\n     <use xlink:href=\"#DejaVuSans-63\" x=\"1288.095703\"/>\n     <use xlink:href=\"#DejaVuSans-75\" x=\"1343.076172\"/>\n     <use xlink:href=\"#DejaVuSans-72\" x=\"1406.455078\"/>\n     <use xlink:href=\"#DejaVuSans-61\" x=\"1447.568359\"/>\n     <use xlink:href=\"#DejaVuSans-63\" x=\"1508.847656\"/>\n     <use xlink:href=\"#DejaVuSans-79\" x=\"1563.828125\"/>\n    </g>\n   </g>\n   <g id=\"legend_1\">\n    <g id=\"patch_7\">\n     <path d=\"M 264.223125 59.674375 \nL 393.90125 59.674375 \nQ 395.90125 59.674375 395.90125 57.674375 \nL 395.90125 29.318125 \nQ 395.90125 27.318125 393.90125 27.318125 \nL 264.223125 27.318125 \nQ 262.223125 27.318125 262.223125 29.318125 \nL 262.223125 57.674375 \nQ 262.223125 59.674375 264.223125 59.674375 \nz\n\" style=\"fill: #ffffff; opacity: 0.8; stroke: #cccccc; stroke-linejoin: miter\"/>\n    </g>\n    <g id=\"line2d_17\">\n     <path d=\"M 266.223125 35.416562 \nL 276.223125 35.416562 \nL 286.223125 35.416562 \n\" style=\"fill: none; stroke: #0000ff; stroke-width: 1.5; stroke-linecap: square\"/>\n    </g>\n    <g id=\"text_18\">\n     <!-- Training accuracy -->\n     <g transform=\"translate(294.223125 38.916562)scale(0.1 -0.1)\">\n      <use xlink:href=\"#DejaVuSans-54\"/>\n      <use xlink:href=\"#DejaVuSans-72\" x=\"46.333984\"/>\n      <use xlink:href=\"#DejaVuSans-61\" x=\"87.447266\"/>\n      <use xlink:href=\"#DejaVuSans-69\" x=\"148.726562\"/>\n      <use xlink:href=\"#DejaVuSans-6e\" x=\"176.509766\"/>\n      <use xlink:href=\"#DejaVuSans-69\" x=\"239.888672\"/>\n      <use xlink:href=\"#DejaVuSans-6e\" x=\"267.671875\"/>\n      <use xlink:href=\"#DejaVuSans-67\" x=\"331.050781\"/>\n      <use xlink:href=\"#DejaVuSans-20\" x=\"394.527344\"/>\n      <use xlink:href=\"#DejaVuSans-61\" x=\"426.314453\"/>\n      <use xlink:href=\"#DejaVuSans-63\" x=\"487.59375\"/>\n      <use xlink:href=\"#DejaVuSans-63\" x=\"542.574219\"/>\n      <use xlink:href=\"#DejaVuSans-75\" x=\"597.554688\"/>\n      <use xlink:href=\"#DejaVuSans-72\" x=\"660.933594\"/>\n      <use xlink:href=\"#DejaVuSans-61\" x=\"702.046875\"/>\n      <use xlink:href=\"#DejaVuSans-63\" x=\"763.326172\"/>\n      <use xlink:href=\"#DejaVuSans-79\" x=\"818.306641\"/>\n     </g>\n    </g>\n    <g id=\"line2d_18\">\n     <path d=\"M 266.223125 50.094687 \nL 276.223125 50.094687 \nL 286.223125 50.094687 \n\" style=\"fill: none; stroke: #ff0000; stroke-width: 1.5; stroke-linecap: square\"/>\n    </g>\n    <g id=\"text_19\">\n     <!-- Validation accuracy -->\n     <g transform=\"translate(294.223125 53.594687)scale(0.1 -0.1)\">\n      <use xlink:href=\"#DejaVuSans-56\"/>\n      <use xlink:href=\"#DejaVuSans-61\" x=\"60.658203\"/>\n      <use xlink:href=\"#DejaVuSans-6c\" x=\"121.9375\"/>\n      <use xlink:href=\"#DejaVuSans-69\" x=\"149.720703\"/>\n      <use xlink:href=\"#DejaVuSans-64\" x=\"177.503906\"/>\n      <use xlink:href=\"#DejaVuSans-61\" x=\"240.980469\"/>\n      <use xlink:href=\"#DejaVuSans-74\" x=\"302.259766\"/>\n      <use xlink:href=\"#DejaVuSans-69\" x=\"341.46875\"/>\n      <use xlink:href=\"#DejaVuSans-6f\" x=\"369.251953\"/>\n      <use xlink:href=\"#DejaVuSans-6e\" x=\"430.433594\"/>\n      <use xlink:href=\"#DejaVuSans-20\" x=\"493.8125\"/>\n      <use xlink:href=\"#DejaVuSans-61\" x=\"525.599609\"/>\n      <use xlink:href=\"#DejaVuSans-63\" x=\"586.878906\"/>\n      <use xlink:href=\"#DejaVuSans-63\" x=\"641.859375\"/>\n      <use xlink:href=\"#DejaVuSans-75\" x=\"696.839844\"/>\n      <use xlink:href=\"#DejaVuSans-72\" x=\"760.21875\"/>\n      <use xlink:href=\"#DejaVuSans-61\" x=\"801.332031\"/>\n      <use xlink:href=\"#DejaVuSans-63\" x=\"862.611328\"/>\n      <use xlink:href=\"#DejaVuSans-79\" x=\"917.591797\"/>\n     </g>\n    </g>\n   </g>\n  </g>\n </g>\n <defs>\n  <clipPath id=\"p52407adf3c\">\n   <rect x=\"43.78125\" y=\"22.318125\" width=\"357.12\" height=\"266.112\"/>\n  </clipPath>\n </defs>\n</svg>\n",
      "text/plain": [
       "<Figure size 640x480 with 1 Axes>"
      ]
     },
     "metadata": {},
     "output_type": "display_data"
    }
   ],
   "source": [
    "plt.plot(epochs, train_acc_hist, 'b', label='Training accuracy')\n",
    "# plt.plot(epochs, val_acc_hist, 'r', label='Validation accuracy') # TODO: tmp\n",
    "plt.plot(epochs, [x.item() for x in val_acc_hist], 'r', label='Validation accuracy')\n",
    "plt.title('Training and Validation accuracy')\n",
    "plt.xlabel('Epochs')\n",
    "plt.ylabel('Loss')\n",
    "plt.legend()\n",
    "plt.show()"
   ]
  },
  {
   "cell_type": "code",
   "execution_count": 18,
   "metadata": {},
   "outputs": [
    {
     "data": {
      "text/plain": [
       "8"
      ]
     },
     "execution_count": 18,
     "metadata": {},
     "output_type": "execute_result"
    }
   ],
   "source": [
    "# TODO: tmp\n",
    "vah = np.array([x.item() for x in val_acc_hist])\n",
    "np.argmax(vah)"
   ]
  },
  {
   "cell_type": "code",
   "execution_count": 17,
   "metadata": {},
   "outputs": [
    {
     "name": "stdout",
     "output_type": "stream",
     "text": [
      "Test loss: 36.19898075790879\n",
      "Test accuracy 0.8382505189557994\n"
     ]
    }
   ],
   "source": [
    "model.eval()\n",
    "test_loss = 0.0\n",
    "test_accuracy = 0.0\n",
    "with torch.no_grad():\n",
    "    for batch in test_dl:\n",
    "        batch = batch.to(DEVICE)\n",
    "        outputs = model(batch)\n",
    "        loss = loss_fn(outputs, batch.labels)\n",
    "        test_loss += loss.item()\n",
    "        test_accuracy += accuracy(outputs, batch.labels).item()\n",
    "test_loss /= len(test_dl)\n",
    "print(f\"Test loss: {test_loss}\")\n",
    "test_accuracy /= len(test_dl)\n",
    "print(f\"Test accuracy {test_accuracy}\")"
   ]
  },
  {
   "cell_type": "markdown",
   "metadata": {},
   "source": [
    "<mark>Do not forget to rename the path!</mark>"
   ]
  },
  {
   "cell_type": "code",
   "execution_count": 19,
   "metadata": {},
   "outputs": [],
   "source": [
    "torch.save(model.state_dict(), \"/home/s1m00n/research/saved_models/roberta-base_vit-base-patch32-224-in21k_binary-cls_ns-same_ep40_overfit.pth\")"
   ]
  },
  {
   "cell_type": "code",
   "execution_count": 24,
   "metadata": {},
   "outputs": [
    {
     "ename": "AttributeError",
     "evalue": "'NoneType' object has no attribute 'config'",
     "output_type": "error",
     "traceback": [
      "\u001b[0;31m---------------------------------------------------------------------------\u001b[0m",
      "\u001b[0;31mAttributeError\u001b[0m                            Traceback (most recent call last)",
      "Cell \u001b[0;32mIn [24], line 1\u001b[0m\n\u001b[0;32m----> 1\u001b[0m \u001b[43mBinaryClassificationModel\u001b[49m\u001b[43m(\u001b[49m\n\u001b[1;32m      2\u001b[0m \u001b[43m    \u001b[49m\u001b[43mtext_encoder\u001b[49m\u001b[38;5;241;43m=\u001b[39;49m\u001b[38;5;28;43;01mNone\u001b[39;49;00m\u001b[43m,\u001b[49m\n\u001b[1;32m      3\u001b[0m \u001b[43m    \u001b[49m\u001b[43mimage_encoder\u001b[49m\u001b[38;5;241;43m=\u001b[39;49m\u001b[38;5;28;43;01mNone\u001b[39;49;00m\u001b[43m,\u001b[49m\n\u001b[1;32m      4\u001b[0m \u001b[43m)\u001b[49m\u001b[38;5;241m.\u001b[39mload_state_dict(torch\u001b[38;5;241m.\u001b[39mload(\u001b[38;5;124m\"\u001b[39m\u001b[38;5;124m/home/s1m00n/research/saved_models/roberta-base_vit-base-patch32-224-in21k_binary-cls_ns-same_ep40_overfit.pth\u001b[39m\u001b[38;5;124m\"\u001b[39m))\n",
      "Cell \u001b[0;32mIn [6], line 18\u001b[0m, in \u001b[0;36mBinaryClassificationModel.__init__\u001b[0;34m(self, text_encoder, image_encoder, text_dropout_rate, image_dropout_rate, text_projection_enable_bias, image_projection_enable_bias, projection_dim)\u001b[0m\n\u001b[1;32m     16\u001b[0m \u001b[38;5;28mself\u001b[39m\u001b[38;5;241m.\u001b[39mtext_encoder \u001b[38;5;241m=\u001b[39m text_encoder\n\u001b[1;32m     17\u001b[0m \u001b[38;5;28mself\u001b[39m\u001b[38;5;241m.\u001b[39mtext_dropout \u001b[38;5;241m=\u001b[39m nn\u001b[38;5;241m.\u001b[39mDropout(p\u001b[38;5;241m=\u001b[39mtext_dropout_rate)\n\u001b[0;32m---> 18\u001b[0m \u001b[38;5;28mself\u001b[39m\u001b[38;5;241m.\u001b[39mtext_projection \u001b[38;5;241m=\u001b[39m nn\u001b[38;5;241m.\u001b[39mLinear(\u001b[38;5;28;43mself\u001b[39;49m\u001b[38;5;241;43m.\u001b[39;49m\u001b[43mtext_encoder\u001b[49m\u001b[38;5;241;43m.\u001b[39;49m\u001b[43mconfig\u001b[49m\u001b[38;5;241m.\u001b[39mhidden_size, projection_dim, bias\u001b[38;5;241m=\u001b[39mtext_projection_enable_bias)\n\u001b[1;32m     19\u001b[0m \u001b[38;5;28mself\u001b[39m\u001b[38;5;241m.\u001b[39mimage_encoder \u001b[38;5;241m=\u001b[39m image_encoder\n\u001b[1;32m     20\u001b[0m \u001b[38;5;28mself\u001b[39m\u001b[38;5;241m.\u001b[39mimage_dropout \u001b[38;5;241m=\u001b[39m nn\u001b[38;5;241m.\u001b[39mDropout(p\u001b[38;5;241m=\u001b[39mimage_dropout_rate)\n",
      "\u001b[0;31mAttributeError\u001b[0m: 'NoneType' object has no attribute 'config'"
     ]
    }
   ],
   "source": [
    "BinaryClassificationModel(\n",
    "    text_encoder=None, # TODO: fix saving\n",
    "    image_encoder=None,\n",
    ").load_state_dict(torch.load(\"/home/s1m00n/research/saved_models/roberta-base_vit-base-patch32-224-in21k_binary-cls_ns-same_ep40_overfit.pth\"))"
   ]
  },
  {
   "cell_type": "code",
   "execution_count": null,
   "metadata": {},
   "outputs": [],
   "source": []
  }
 ],
 "metadata": {
  "kernelspec": {
   "display_name": "ds",
   "language": "python",
   "name": "ds"
  },
  "language_info": {
   "codemirror_mode": {
    "name": "ipython",
    "version": 3
   },
   "file_extension": ".py",
   "mimetype": "text/x-python",
   "name": "python",
   "nbconvert_exporter": "python",
   "pygments_lexer": "ipython3",
   "version": "3.10.6"
  },
  "vscode": {
   "interpreter": {
    "hash": "131d0a5d7f623413ec24b9053cbfaa2766740b7499480757847ccc341935ffee"
   }
  }
 },
 "nbformat": 4,
 "nbformat_minor": 2
}
